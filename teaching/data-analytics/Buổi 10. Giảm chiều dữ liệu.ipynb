{
 "cells": [
  {
   "cell_type": "markdown",
   "metadata": {},
   "source": [
    "# Thông tin chung\n",
    "\n",
    "**Mục tiêu**\n",
    "\n",
    "- Giới thiệu thao tác giảm chiều dữ liệu và thuật toán PCA thường được sử dụng để giảm chiều dữ liệu.\n",
    "\n",
    "**Kết quả đạt được**\n",
    "\n",
    "Sinh viên sau khi thực hành sẽ:\n",
    "- Nắm vững thuật toán PCA giúp giảm chiều dữ liệu.\n",
    "- Cài đặt được các ví dụ thực hành.\n",
    "\n",
    "**Thời gian thực hành:** 3 tiết\n",
    "\n",
    "**Công cụ thực hành:** Google Colab, Anaconda"
   ]
  },
  {
   "cell_type": "markdown",
   "metadata": {},
   "source": [
    "# Nội dung lý thuyết\n",
    "\n",
    "Giảm chiều dữ liệu (Reduce Dimension) là thao tác chuyển dữ liệu từ n chiều sang m chiều (m < n) mà vẫn đảm bảo thông tin.\n",
    "\n",
    "Có hai cách để giảm chiều dữ liệu:\n",
    "\n",
    "- Chọn một số thuộc tính quan trọng trong tập các thuộc tính\n",
    "- Định nghĩa tập các thuộc tính mới với số lượng thuộc tính ít hơn\n",
    "\n",
    "**Thuật toán Phân tích thành phần chính (PCA - Principal Component Analysis)**\n",
    "\n",
    "- Là phép biến đổi giúp giảm số lượng lớn các biến có tương quan với nhau thành tập ít các biến sao cho các biến mới tạo ra là tổ hợp tuyến tính của những biến cũ không có tương quan lẫn nhau.\n",
    "\n"
   ]
  },
  {
   "cell_type": "markdown",
   "metadata": {},
   "source": [
    "# Nội dung thực hành\n",
    "\n",
    "## Mô tả bài toán\n",
    "\n",
    "Cho dữ liệu hoa Iris gồm 5 thuộc tính sau:\n",
    "\n",
    "- sepal_length: chiều dài đài hoa (cm)\n",
    "- sepal_width: chiều rộng đài hoa (cm)\n",
    "- petal_length: chiều dài cánh hoa (cm)\n",
    "- petal_width: chiều rộng cánh hoa (cm)\n",
    "- species: loại/lớp hoa\n",
    "\n",
    "Hãy giảm số lượng các thuộc tính của tập dữ liệu."
   ]
  },
  {
   "cell_type": "code",
   "execution_count": 1,
   "metadata": {},
   "outputs": [
    {
     "name": "stderr",
     "output_type": "stream",
     "text": [
      "C:\\anaconda3\\lib\\site-packages\\statsmodels\\tools\\_testing.py:19: FutureWarning: pandas.util.testing is deprecated. Use the functions in the public API at pandas.testing instead.\n",
      "  import pandas.util.testing as tm\n"
     ]
    },
    {
     "data": {
      "text/html": [
       "<div>\n",
       "<style scoped>\n",
       "    .dataframe tbody tr th:only-of-type {\n",
       "        vertical-align: middle;\n",
       "    }\n",
       "\n",
       "    .dataframe tbody tr th {\n",
       "        vertical-align: top;\n",
       "    }\n",
       "\n",
       "    .dataframe thead th {\n",
       "        text-align: right;\n",
       "    }\n",
       "</style>\n",
       "<table border=\"1\" class=\"dataframe\">\n",
       "  <thead>\n",
       "    <tr style=\"text-align: right;\">\n",
       "      <th></th>\n",
       "      <th>sepal_length</th>\n",
       "      <th>sepal_width</th>\n",
       "      <th>petal_length</th>\n",
       "      <th>petal_width</th>\n",
       "      <th>species</th>\n",
       "    </tr>\n",
       "  </thead>\n",
       "  <tbody>\n",
       "    <tr>\n",
       "      <th>0</th>\n",
       "      <td>5.1</td>\n",
       "      <td>3.5</td>\n",
       "      <td>1.4</td>\n",
       "      <td>0.2</td>\n",
       "      <td>setosa</td>\n",
       "    </tr>\n",
       "    <tr>\n",
       "      <th>1</th>\n",
       "      <td>4.9</td>\n",
       "      <td>3.0</td>\n",
       "      <td>1.4</td>\n",
       "      <td>0.2</td>\n",
       "      <td>setosa</td>\n",
       "    </tr>\n",
       "    <tr>\n",
       "      <th>2</th>\n",
       "      <td>4.7</td>\n",
       "      <td>3.2</td>\n",
       "      <td>1.3</td>\n",
       "      <td>0.2</td>\n",
       "      <td>setosa</td>\n",
       "    </tr>\n",
       "    <tr>\n",
       "      <th>3</th>\n",
       "      <td>4.6</td>\n",
       "      <td>3.1</td>\n",
       "      <td>1.5</td>\n",
       "      <td>0.2</td>\n",
       "      <td>setosa</td>\n",
       "    </tr>\n",
       "    <tr>\n",
       "      <th>4</th>\n",
       "      <td>5.0</td>\n",
       "      <td>3.6</td>\n",
       "      <td>1.4</td>\n",
       "      <td>0.2</td>\n",
       "      <td>setosa</td>\n",
       "    </tr>\n",
       "  </tbody>\n",
       "</table>\n",
       "</div>"
      ],
      "text/plain": [
       "   sepal_length  sepal_width  petal_length  petal_width species\n",
       "0           5.1          3.5           1.4          0.2  setosa\n",
       "1           4.9          3.0           1.4          0.2  setosa\n",
       "2           4.7          3.2           1.3          0.2  setosa\n",
       "3           4.6          3.1           1.5          0.2  setosa\n",
       "4           5.0          3.6           1.4          0.2  setosa"
      ]
     },
     "execution_count": 1,
     "metadata": {},
     "output_type": "execute_result"
    }
   ],
   "source": [
    "import numpy as np\n",
    "import pandas as pd\n",
    "import matplotlib.pyplot as plt\n",
    "import seaborn as sns\n",
    "from sklearn.preprocessing import StandardScaler\n",
    "\n",
    "iris = pd.read_csv('iris.csv')\n",
    "iris.head()"
   ]
  },
  {
   "cell_type": "code",
   "execution_count": 2,
   "metadata": {},
   "outputs": [
    {
     "data": {
      "text/plain": [
       "['sepal_length', 'sepal_width', 'petal_length', 'petal_width']"
      ]
     },
     "execution_count": 2,
     "metadata": {},
     "output_type": "execute_result"
    }
   ],
   "source": [
    "features = iris.columns.to_list()\n",
    "features.remove('species')\n",
    "features"
   ]
  },
  {
   "cell_type": "code",
   "execution_count": 3,
   "metadata": {},
   "outputs": [
    {
     "data": {
      "text/plain": [
       "['setosa', 'versicolor', 'virginica']"
      ]
     },
     "execution_count": 3,
     "metadata": {},
     "output_type": "execute_result"
    }
   ],
   "source": [
    "targets = iris['species'].unique().tolist()\n",
    "targets"
   ]
  },
  {
   "cell_type": "code",
   "execution_count": 4,
   "metadata": {},
   "outputs": [],
   "source": [
    "def transform_species(iris):\n",
    "    species_mapping = { \"setosa\": 0, \"versicolor\": 1, \"virginica\": 2 }\n",
    "    iris['species'] = iris['species'].map(species_mapping)\n",
    "\n",
    "transform_species(iris)"
   ]
  },
  {
   "cell_type": "code",
   "execution_count": 5,
   "metadata": {},
   "outputs": [],
   "source": [
    "#X = iris.iloc[:, [0, 1, 2, 3]].values\n",
    "X = iris.loc[:, features].values\n",
    "y = iris[[ 'species' ]]"
   ]
  },
  {
   "cell_type": "code",
   "execution_count": 6,
   "metadata": {},
   "outputs": [],
   "source": [
    "X = StandardScaler().fit_transform(X)"
   ]
  },
  {
   "cell_type": "markdown",
   "metadata": {},
   "source": [
    "## Giảm chiều dữ liệu với PCA"
   ]
  },
  {
   "cell_type": "code",
   "execution_count": 7,
   "metadata": {},
   "outputs": [],
   "source": [
    "from sklearn.decomposition import PCA\n",
    "\n",
    "pca = PCA(n_components = 2)\n",
    "df2D = pca.fit_transform(X)\n",
    "\n",
    "df2D = pd.DataFrame(data = df2D, \n",
    "                    columns = ['PC1', 'PC2'])"
   ]
  },
  {
   "cell_type": "code",
   "execution_count": 8,
   "metadata": {},
   "outputs": [
    {
     "data": {
      "text/plain": [
       "(150, 2)"
      ]
     },
     "execution_count": 8,
     "metadata": {},
     "output_type": "execute_result"
    }
   ],
   "source": [
    "df2D.shape"
   ]
  },
  {
   "cell_type": "code",
   "execution_count": 9,
   "metadata": {},
   "outputs": [
    {
     "data": {
      "text/html": [
       "<div>\n",
       "<style scoped>\n",
       "    .dataframe tbody tr th:only-of-type {\n",
       "        vertical-align: middle;\n",
       "    }\n",
       "\n",
       "    .dataframe tbody tr th {\n",
       "        vertical-align: top;\n",
       "    }\n",
       "\n",
       "    .dataframe thead th {\n",
       "        text-align: right;\n",
       "    }\n",
       "</style>\n",
       "<table border=\"1\" class=\"dataframe\">\n",
       "  <thead>\n",
       "    <tr style=\"text-align: right;\">\n",
       "      <th></th>\n",
       "      <th>PC1</th>\n",
       "      <th>PC2</th>\n",
       "      <th>species</th>\n",
       "    </tr>\n",
       "  </thead>\n",
       "  <tbody>\n",
       "    <tr>\n",
       "      <th>0</th>\n",
       "      <td>-2.264542</td>\n",
       "      <td>0.505704</td>\n",
       "      <td>0</td>\n",
       "    </tr>\n",
       "    <tr>\n",
       "      <th>1</th>\n",
       "      <td>-2.086426</td>\n",
       "      <td>-0.655405</td>\n",
       "      <td>0</td>\n",
       "    </tr>\n",
       "    <tr>\n",
       "      <th>2</th>\n",
       "      <td>-2.367950</td>\n",
       "      <td>-0.318477</td>\n",
       "      <td>0</td>\n",
       "    </tr>\n",
       "    <tr>\n",
       "      <th>3</th>\n",
       "      <td>-2.304197</td>\n",
       "      <td>-0.575368</td>\n",
       "      <td>0</td>\n",
       "    </tr>\n",
       "    <tr>\n",
       "      <th>4</th>\n",
       "      <td>-2.388777</td>\n",
       "      <td>0.674767</td>\n",
       "      <td>0</td>\n",
       "    </tr>\n",
       "  </tbody>\n",
       "</table>\n",
       "</div>"
      ],
      "text/plain": [
       "        PC1       PC2  species\n",
       "0 -2.264542  0.505704        0\n",
       "1 -2.086426 -0.655405        0\n",
       "2 -2.367950 -0.318477        0\n",
       "3 -2.304197 -0.575368        0\n",
       "4 -2.388777  0.674767        0"
      ]
     },
     "execution_count": 9,
     "metadata": {},
     "output_type": "execute_result"
    }
   ],
   "source": [
    "df2D['species'] = iris[[ 'species' ]]\n",
    "df2D.head()"
   ]
  },
  {
   "cell_type": "code",
   "execution_count": 10,
   "metadata": {},
   "outputs": [],
   "source": [
    "df2D = df2D.replace(0, 'setosa')\n",
    "df2D = df2D.replace(1, 'versicolor')\n",
    "df2D = df2D.replace(2, 'virginica')"
   ]
  },
  {
   "cell_type": "code",
   "execution_count": 11,
   "metadata": {},
   "outputs": [
    {
     "data": {
      "text/plain": [
       "<seaborn.axisgrid.FacetGrid at 0x2260715c548>"
      ]
     },
     "execution_count": 11,
     "metadata": {},
     "output_type": "execute_result"
    },
    {
     "data": {
      "image/png": "[encoded data removed]",
      "text/plain": [
       "<Figure size 444.75x360 with 1 Axes>"
      ]
     },
     "metadata": {
      "needs_background": "light"
     },
     "output_type": "display_data"
    }
   ],
   "source": [
    "sns.lmplot(x = 'PC1', y = 'PC2', \n",
    "           data = df2D, \n",
    "           hue = 'species', \n",
    "           fit_reg = False, \n",
    "           legend = True) "
   ]
  },
  {
   "cell_type": "code",
   "execution_count": 12,
   "metadata": {},
   "outputs": [
    {
     "name": "stdout",
     "output_type": "stream",
     "text": [
      "[0.72770452 0.23030523]\n"
     ]
    }
   ],
   "source": [
    "print(pca.explained_variance_ratio_)"
   ]
  },
  {
   "cell_type": "markdown",
   "metadata": {},
   "source": [
    "**Xác định số lượng chiều cần rút gọn**"
   ]
  },
  {
   "cell_type": "code",
   "execution_count": 13,
   "metadata": {},
   "outputs": [],
   "source": [
    "for i in range(1, 5):\n",
    "    pca = PCA(n_components = i)\n",
    "    pca.fit_transform(X)"
   ]
  },
  {
   "cell_type": "code",
   "execution_count": 14,
   "metadata": {},
   "outputs": [],
   "source": [
    "tot = sum(pca.explained_variance_)\n",
    "var_exp = [(i / tot) * 100 for i in sorted(pca.explained_variance_, reverse = True)]\n",
    "cum_var_exp = np.cumsum(var_exp)"
   ]
  },
  {
   "cell_type": "code",
   "execution_count": 15,
   "metadata": {},
   "outputs": [
    {
     "data": {
      "image/png": "[encoded data removed]",
      "text/plain": [
       "<Figure size 432x288 with 2 Axes>"
      ]
     },
     "metadata": {
      "needs_background": "light"
     },
     "output_type": "display_data"
    }
   ],
   "source": [
    "# Scree plot\n",
    "fig, ax1 = plt.subplots()\n",
    "\n",
    "# 1\n",
    "l1 = ax1.plot(range(1, 5), pca.explained_variance_, marker = '*', color = 'red', label = 'eigenvalue')\n",
    "ax1.set_title('Scree plot')\n",
    "ax1.set_xlabel('Principal components')\n",
    "ax1.set_ylabel('Eigenvalue')\n",
    "\n",
    "# 2\n",
    "ax2 = ax1.twinx()\n",
    "# ax2.bar(range(1, 5), var_exp, alpha = 0.25, align = 'center', label = 'individual explained variance')\n",
    "# ax2.step(range(1, 5), cum_var_exp, where = 'mid', label = 'cumulative explained variance')\n",
    "ax2.bar(range(1, 5), var_exp, alpha = 0.25, align = 'center')\n",
    "l2 = ax2.plot(range(1, 5), cum_var_exp, marker = 'o', label = 'cumulative explained variance')\n",
    "ax2.set_ylabel('Explained Variance Ratio')\n",
    "\n",
    "#\n",
    "lines = l1 + l2\n",
    "lbls = [l.get_label() for l in lines]\n",
    "ax1.legend(lines, lbls, loc = 'right')\n",
    "\n",
    "plt.show()"
   ]
  },
  {
   "cell_type": "markdown",
   "metadata": {},
   "source": [
    "- Ta thấy chỉ có PC1 giá trị riêng lớn hơn 1. PC1 chiếm khoảng 73\\% phương sai tích lũy. Nếu chọn thêm PC2, ta sẽ thêm khoảng 23\\% tích lũy phương sai. Trong khi đó, PC3 và PC4 chỉ chiếm tỷ lệ rất nhỏ so với PC1 và PC2."
   ]
  },
  {
   "cell_type": "markdown",
   "metadata": {},
   "source": [
    "# Bài tập\n",
    "\n",
    "- Sinh viên áp dụng thuật toán PCA để giảm chiều dữ liệu đối với các tập dữ liệu những buổi học trước."
   ]
  }
 ],
 "metadata": {
  "kernelspec": {
   "display_name": "Python 3",
   "language": "python",
   "name": "python3"
  },
  "language_info": {
   "codemirror_mode": {
    "name": "ipython",
    "version": 3
   },
   "file_extension": ".py",
   "mimetype": "text/x-python",
   "name": "python",
   "nbconvert_exporter": "python",
   "pygments_lexer": "ipython3",
   "version": "3.7.4"
  }
 },
 "nbformat": 4,
 "nbformat_minor": 4
}
