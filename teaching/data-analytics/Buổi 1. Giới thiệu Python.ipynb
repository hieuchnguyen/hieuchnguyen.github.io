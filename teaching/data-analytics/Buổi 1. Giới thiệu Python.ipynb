{
 "cells": [
  {
   "cell_type": "markdown",
   "metadata": {},
   "source": [
    "# Thông tin chung\n",
    "\n",
    "**Mục tiêu buổi học**\n",
    "\n",
    "- Giới thiệu ngôn ngữ lập trình Python\n",
    "- Hướng dẫn cài đặt các ví dụ cơ bản về lập trình Python: biến, các kiểu dữ liệu, hàm, ...\n",
    "\n",
    "**Kiến thức và kỹ năng đạt được**\n",
    "\n",
    "- Nắm vững các khái niệm trong lập trình Python.\n",
    "- Áp dụng cài đặt được các bài tập thực hành.\n",
    "\n",
    "**Công cụ thực hành**\n",
    "\n",
    "- Ngôn ngữ lập trình: Python\n",
    "- Công cụ thực hành: Anaconda, colab\n",
    "\n",
    "**Thời gian thực hành**: 3 tiết"
   ]
  },
  {
   "cell_type": "markdown",
   "metadata": {},
   "source": [
    "# Nội dung lý thuyết\n",
    "\n",
    "\n",
    "**Giới thiệu**\n",
    "\n",
    "Python là một ngôn ngữ lập trình cấp cao do Guido van Rossum tạo ra năm 1990. Đây là một trong các ngôn ngữ lập trình phổ biến nhất thế giới.\n",
    "\n",
    "Một số ưu điểm của Python:\n",
    "\n",
    "- Mã nguồn đơn giản, dễ hiểu\n",
    "- Kiểu dữ liệu linh động\n",
    "- Hỗ trợ nhiều thư viện xử lý toán học, dữ liệu, xử lý ảnh, ...\n",
    "\n",
    "\n",
    "**Lịch sử phát triển của ngôn ngữ Python**\n",
    "\n",
    "- Python 1: 1994\n",
    "- Python 2: 2000\n",
    "- Python 3: 2008\n",
    "\n",
    "**Công cụ lập trình**\n",
    "\n",
    "- Tự cài đặt Python https://www.python.org\n",
    "- Anaconda https://www.anaconda.com/\n",
    "- Google Colab (online) https://colab.research.google.com/"
   ]
  },
  {
   "cell_type": "markdown",
   "metadata": {},
   "source": [
    "# Nội dung thực hành"
   ]
  },
  {
   "cell_type": "markdown",
   "metadata": {},
   "source": [
    "## Biến, kiểu dữ liệu\n",
    "\n",
    "- Trong ngôn ngữ Python, biến không cần khai báo kiểu dữ liệu trước khi sử dụng. Biến có thể thay đổi kiểu dữ liệu động tùy theo giá trị được gán.\n",
    "\n",
    "- Kiểu dữ liệu nguyên thủy:\n",
    "    - NoneType: None\n",
    "    - bool: True, False\n",
    "    - số: số nguyên, số thực, số phức\n",
    "- Kiểu trừu tượng lưu trữ dữ liệu _(container)_: chuỗi, danh sách, tập hợp, ..."
   ]
  },
  {
   "cell_type": "code",
   "execution_count": 1,
   "metadata": {},
   "outputs": [
    {
     "name": "stdout",
     "output_type": "stream",
     "text": [
      "Hello World\n"
     ]
    }
   ],
   "source": [
    "# Ví dụ. In thông báo ra màn hình\n",
    "print(\"Hello World\")"
   ]
  },
  {
   "cell_type": "code",
   "execution_count": 2,
   "metadata": {},
   "outputs": [
    {
     "name": "stdout",
     "output_type": "stream",
     "text": [
      "Hello World\n"
     ]
    }
   ],
   "source": [
    "# Ví dụ. In thông báo ra màn hình\n",
    "msg = \"Hello World\"\n",
    "print(msg)"
   ]
  },
  {
   "cell_type": "code",
   "execution_count": 3,
   "metadata": {},
   "outputs": [
    {
     "name": "stdout",
     "output_type": "stream",
     "text": [
      "c =  5.5\n"
     ]
    },
    {
     "data": {
      "text/plain": [
       "5.5"
      ]
     },
     "execution_count": 3,
     "metadata": {},
     "output_type": "execute_result"
    }
   ],
   "source": [
    "# Ví dụ. Tính tổng 2 số\n",
    "a = 5\n",
    "b = 0.5\n",
    "c = a + b\n",
    "\n",
    "print(\"c = \", c)\n",
    "c"
   ]
  },
  {
   "cell_type": "code",
   "execution_count": 4,
   "metadata": {},
   "outputs": [
    {
     "name": "stdout",
     "output_type": "stream",
     "text": [
      "c =  5.5\n"
     ]
    },
    {
     "data": {
      "text/plain": [
       "5.5"
      ]
     },
     "execution_count": 4,
     "metadata": {},
     "output_type": "execute_result"
    }
   ],
   "source": [
    "# Ví dụ. Tính tổng 2 số\n",
    "a, b = 5, 0.5\n",
    "c = a + b\n",
    "\n",
    "print(\"c = \", c)\n",
    "c"
   ]
  },
  {
   "cell_type": "code",
   "execution_count": 5,
   "metadata": {},
   "outputs": [
    {
     "name": "stdout",
     "output_type": "stream",
     "text": [
      "5 10\n",
      "10 5\n"
     ]
    }
   ],
   "source": [
    "# Ví dụ. Hoán vị 2 số a và b\n",
    "a, b = 5, 10\n",
    "print(a, b)\n",
    "\n",
    "a, b = b, a\n",
    "print(a, b)"
   ]
  },
  {
   "cell_type": "code",
   "execution_count": 6,
   "metadata": {},
   "outputs": [
    {
     "name": "stdout",
     "output_type": "stream",
     "text": [
      "<class 'int'>\n",
      "<class 'float'>\n",
      "<class 'str'>\n",
      "<class 'bool'>\n"
     ]
    }
   ],
   "source": [
    "# Ví dụ. Biến thay đổi kiểu dữ liệu động tùy theo giá trị được gán.\n",
    "var = 10\n",
    "print(type(var))\n",
    "\n",
    "var = 0.5\n",
    "print(type(var))\n",
    "\n",
    "var = \"text\"\n",
    "print(type(var))\n",
    "\n",
    "var = \"text\"\n",
    "print(type(False))"
   ]
  },
  {
   "cell_type": "markdown",
   "metadata": {},
   "source": [
    "## Các cấu trúc điều khiển\n",
    "\n",
    "### Cấu trúc rẽ nhánh"
   ]
  },
  {
   "cell_type": "code",
   "execution_count": 7,
   "metadata": {},
   "outputs": [
    {
     "name": "stdout",
     "output_type": "stream",
     "text": [
      "odd\n"
     ]
    }
   ],
   "source": [
    "# Ví dụ. Kiểm tra n là số chẵn hay lẻ\n",
    "n = 1\n",
    "if n % 2 == 0:\n",
    "    print(\"even\")\n",
    "else:\n",
    "    print(\"odd\")"
   ]
  },
  {
   "cell_type": "code",
   "execution_count": 8,
   "metadata": {},
   "outputs": [
    {
     "data": {
      "text/plain": [
       "10"
      ]
     },
     "execution_count": 8,
     "metadata": {},
     "output_type": "execute_result"
    }
   ],
   "source": [
    "# Ví dụ. Tìm số lớn nhất giữa 3 số a, b, c\n",
    "a, b, c = 5, 10, 1\n",
    "max = a\n",
    "if max < b:\n",
    "    max = b\n",
    "if max < c:\n",
    "    max = c\n",
    "max"
   ]
  },
  {
   "cell_type": "markdown",
   "metadata": {},
   "source": [
    "### Cấu trúc lặp"
   ]
  },
  {
   "cell_type": "code",
   "execution_count": 9,
   "metadata": {},
   "outputs": [
    {
     "name": "stdout",
     "output_type": "stream",
     "text": [
      "1\n",
      "2\n",
      "3\n",
      "4\n",
      "5\n",
      "sum = 15\n"
     ]
    }
   ],
   "source": [
    "sum = 0\n",
    "n = 5\n",
    "for i in range(1, n + 1):\n",
    "    sum = sum + i\n",
    "    print(i)\n",
    "print(\"sum =\", sum)"
   ]
  },
  {
   "cell_type": "code",
   "execution_count": 10,
   "metadata": {},
   "outputs": [
    {
     "name": "stdout",
     "output_type": "stream",
     "text": [
      "4\n"
     ]
    }
   ],
   "source": [
    "# Ví dụ. Đếm các số chẵn trong n số nguyên dương đầu tiên.\n",
    "count = 0\n",
    "n = 10\n",
    "\n",
    "i = 1\n",
    "while i != n :\n",
    "    if i % 2 == 0:\n",
    "        count = count + 1\n",
    "    i = i + 1\n",
    "    \n",
    "print(count)"
   ]
  },
  {
   "cell_type": "markdown",
   "metadata": {},
   "source": [
    "## Kiểu chuỗi"
   ]
  },
  {
   "cell_type": "code",
   "execution_count": 11,
   "metadata": {},
   "outputs": [
    {
     "data": {
      "text/plain": [
       "'Hello world'"
      ]
     },
     "execution_count": 11,
     "metadata": {},
     "output_type": "execute_result"
    }
   ],
   "source": [
    "# Ví dụ. Một số thao tác với kiểu chuỗi.\n",
    "greeting = \"Hello world!\"\n",
    "\n",
    "#greeting.lower()\n",
    "#greeting.title()\n",
    "#greeting.strip()\n",
    "greeting.strip(\"!\")"
   ]
  },
  {
   "cell_type": "markdown",
   "metadata": {},
   "source": [
    "## Các kiểu dữ liệu trừu tượng\n",
    "\n",
    "### List\n",
    "\n",
    "Trong Python, danh sách _(list)_ là một cấu trúc dữ liệu có thể lưu trữ các phần tử có nhiều kiểu dữ liệu khác nhau. Một danh sách có thể chứa một hay nhiều danh sách con."
   ]
  },
  {
   "cell_type": "code",
   "execution_count": 12,
   "metadata": {},
   "outputs": [
    {
     "name": "stdout",
     "output_type": "stream",
     "text": [
      "[]\n",
      "['a', 'b', 'c', 'd']\n",
      "[1, 3, 5, 7, 9]\n",
      "[1, 2, 0.7, 'text', True]\n"
     ]
    },
    {
     "data": {
      "text/plain": [
       "'Hello World'"
      ]
     },
     "execution_count": 12,
     "metadata": {},
     "output_type": "execute_result"
    }
   ],
   "source": [
    "# Ví dụ. Khai báo và khởi tạo danh sách\n",
    "empty = []\n",
    "letters = ['a', 'b', 'c', 'd']\n",
    "numbers = [1, 3, 5, 7, 9]\n",
    "\n",
    "print(empty)\n",
    "print(letters)\n",
    "print(numbers)\n",
    "\n",
    "# Danh sách có thể chứa nhiều kiểu dữ liệu khác nhau\n",
    "mixed = [1, 2, 0.7, \"text\", True]\n",
    "print(mixed)\n",
    "\n",
    "# Tạo danh sách từ chuỗi\n",
    "msg = \"Hello World\"\n",
    "lst = msg.split()\n",
    "lst\n",
    "\n",
    "# Tạo chuỗi từ danh sách\n",
    "new_msg = \" \".join(lst) # ký tự khoảng trắng\n",
    "new_msg"
   ]
  },
  {
   "cell_type": "code",
   "execution_count": 13,
   "metadata": {},
   "outputs": [
    {
     "name": "stdout",
     "output_type": "stream",
     "text": [
      "[[0, 2, 4, 6, 8], [1, 3, 5, 7, 9]]\n"
     ]
    }
   ],
   "source": [
    "# Ví dụ. Danh sách chứa nhiều danh sách con\n",
    "lst = [[0, 2, 4, 6, 8], [1, 3, 5, 7, 9]]\n",
    "print(lst)"
   ]
  },
  {
   "cell_type": "markdown",
   "metadata": {},
   "source": [
    "**Truy xuất phần tử trong danh sách**\n",
    "\n",
    "Sử dụng toán tử [] để truy xuất trực tiếp đến phần tử của danh sách.\n",
    "\n",
    "- [i] dựa vào chỉ mục/thứ tự phần tử thứ i\n",
    "- [i:] lấy phần tử từ i đến cuối danh sách\n",
    "- [:j] lấy phần tử từ j-1 đến đầu danh sách\n",
    "- [i : j] lấy phần tử từ vị trí i đến vị trí j - 1"
   ]
  },
  {
   "cell_type": "code",
   "execution_count": 14,
   "metadata": {},
   "outputs": [
    {
     "name": "stdout",
     "output_type": "stream",
     "text": [
      "1\n",
      "0.7\n",
      "text\n",
      "['jerry', 'spike', 'donald']\n",
      "['tom', 'jerry']\n",
      "['jerry', 'spike']\n",
      "tom\n",
      "jerry\n",
      "spike\n",
      "donald\n"
     ]
    }
   ],
   "source": [
    "# Ví dụ. Truy xuất phần tử\n",
    "mixed = [1, 2, 0.7, \"text\", True]\n",
    "print(mixed[0])\n",
    "print(mixed[2])\n",
    "print(mixed[-2])\n",
    "\n",
    "# 0, 1, 2, 3\n",
    "pets = [\"tom\", \"jerry\", \"spike\", \"donald\"]\n",
    "print(pets[1:])\n",
    "print(pets[:2])\n",
    "print(pets[1:3])\n",
    "\n",
    "for p in pets:\n",
    "    print(p)"
   ]
  },
  {
   "cell_type": "markdown",
   "metadata": {},
   "source": [
    "**Các thao tác với danh sách**\n",
    "\n",
    "Python cung cấp rất nhiều hàm xử lý kiểu dữ liệu danh sách:\n",
    "\n",
    "- append: thêm một phần tử vào cuối danh sách.\n",
    "- insert: thêm một phần tử vào vị trí $i$ xác định.\n",
    "- remove: xóa một phần tử khỏi danh sách.\n",
    "- clear: xóa danh sách.\n",
    "- extend: thêm danh sách l2 vào danh sách l1.\n",
    "- sort: sắp xếp thứ tự danh sách.\n",
    "- reverse: đảo ngược thứ tự các phần tử trong danh sách.\n",
    "- count: đếm số lần xuất hiện của một phần tử."
   ]
  },
  {
   "cell_type": "code",
   "execution_count": 15,
   "metadata": {},
   "outputs": [
    {
     "name": "stdout",
     "output_type": "stream",
     "text": [
      "['jerry', 'tom', 'spike']\n",
      "['jerry', 'tom', 'spike', 'donald']\n",
      "['donald', 'jerry', 'spike', 'tom']\n"
     ]
    }
   ],
   "source": [
    "# Ví dụ. Các thao tác với danh sách trong Python\n",
    "pets = [\"jerry\", \"tom\", \"spike\"]\n",
    "print(pets)\n",
    "\n",
    "pets.append(\"donald\")\n",
    "print(pets)\n",
    "\n",
    "pets.sort()\n",
    "print(pets)"
   ]
  },
  {
   "cell_type": "markdown",
   "metadata": {},
   "source": [
    "### Tuple\n",
    "\n",
    "Bộ _(tuple)_ là dãy các phần tử liên tiếp nhau. Giá trị của các phần tử này không được thay đổi."
   ]
  },
  {
   "cell_type": "code",
   "execution_count": 16,
   "metadata": {},
   "outputs": [
    {
     "name": "stdout",
     "output_type": "stream",
     "text": [
      "('apple', 'banana', 'cherry', 'orange', 'kiwi')\n"
     ]
    }
   ],
   "source": [
    "fruits = ('apple', 'banana', 'cherry', 'orange', 'kiwi')\n",
    "\n",
    "print(fruits)"
   ]
  },
  {
   "cell_type": "markdown",
   "metadata": {},
   "source": [
    "**Truy xuất phần tử**"
   ]
  },
  {
   "cell_type": "code",
   "execution_count": 17,
   "metadata": {},
   "outputs": [
    {
     "name": "stdout",
     "output_type": "stream",
     "text": [
      "banana\n",
      "kiwi\n",
      "('cherry', 'orange', 'kiwi')\n",
      "apple\n",
      "banana\n",
      "cherry\n",
      "orange\n",
      "kiwi\n"
     ]
    }
   ],
   "source": [
    "print(fruits[1])\n",
    "print(fruits[-1])\n",
    "print(fruits[2:5])\n",
    "\n",
    "for t in fruits:\n",
    "    print(t)"
   ]
  },
  {
   "cell_type": "markdown",
   "metadata": {},
   "source": [
    "- Để thay đổi giá trị của tuple, ta cần chuyển tuple thành list để thay đổi dữ liệu. Sau đó, thực hiện thao tác chuyển ngược lại từ list thành tuple."
   ]
  },
  {
   "cell_type": "code",
   "execution_count": 18,
   "metadata": {},
   "outputs": [
    {
     "name": "stdout",
     "output_type": "stream",
     "text": [
      "list:\n",
      " ['apple', 'banana', 'cherry', 'orange', 'kiwi']\n",
      "tuple:\n",
      " ('apple', 'banana', 'berry', 'orange', 'kiwi')\n"
     ]
    }
   ],
   "source": [
    "l = list(fruits)\n",
    "print('list:\\n', l)\n",
    "\n",
    "l[2] = 'berry'\n",
    "fruits = tuple(l)\n",
    "print('tuple:\\n', fruits)"
   ]
  },
  {
   "cell_type": "markdown",
   "metadata": {},
   "source": [
    "### Dictionary\n",
    "\n",
    "Từ điển _(dictionary)_ là dữ liệu được mô tả bởi nhiều cặp khóa-giá trị."
   ]
  },
  {
   "cell_type": "code",
   "execution_count": 19,
   "metadata": {},
   "outputs": [
    {
     "name": "stdout",
     "output_type": "stream",
     "text": [
      "{'name': 'Tom', 'age': 10, 'gender': True, 'weight': 10.5}\n",
      "Tom\n"
     ]
    }
   ],
   "source": [
    "pets = { 'name' : 'Tom', 'age' : 10, 'gender' : True , 'weight' : 10.5 }\n",
    "\n",
    "print ( pets )\n",
    "print ( pets['name'])"
   ]
  },
  {
   "cell_type": "markdown",
   "metadata": {},
   "source": [
    "### Set\n",
    "\n",
    "Tập hợp _(set)_ là dãy các phần tử không trùng nhau"
   ]
  },
  {
   "cell_type": "code",
   "execution_count": 20,
   "metadata": {},
   "outputs": [
    {
     "name": "stdout",
     "output_type": "stream",
     "text": [
      "{1, 2, 3, 4, 5, 6, 7, 8, 9, 10}\n",
      "{1}\n",
      "{9, 3, 5, 7}\n"
     ]
    }
   ],
   "source": [
    "a = { 1, 3, 5, 7, 9 }\n",
    "b = { 1, 2, 4, 6, 8, 10}\n",
    "\n",
    "print (a | b)\n",
    "print (a & b)\n",
    "print (a - b)"
   ]
  },
  {
   "cell_type": "markdown",
   "metadata": {},
   "source": [
    "## Hàm trong Python"
   ]
  },
  {
   "cell_type": "code",
   "execution_count": 21,
   "metadata": {},
   "outputs": [
    {
     "name": "stdout",
     "output_type": "stream",
     "text": [
      "Hello World\n"
     ]
    }
   ],
   "source": [
    "# Ví dụ. Hàm hiển thị thông điệp Hello World\n",
    "def show():\n",
    "    print(\"Hello World\")\n",
    "show()"
   ]
  },
  {
   "cell_type": "code",
   "execution_count": 22,
   "metadata": {},
   "outputs": [
    {
     "data": {
      "text/plain": [
       "15"
      ]
     },
     "execution_count": 22,
     "metadata": {},
     "output_type": "execute_result"
    }
   ],
   "source": [
    "# Ví dụ. Hàm tính tổng n số nguyên dương đầu tiên.\n",
    "def sum(n):\n",
    "    s = 0\n",
    "    for i in range(1, n + 1):\n",
    "        s = s + i\n",
    "    return s\n",
    "\n",
    "n = 5\n",
    "sum(n)"
   ]
  },
  {
   "cell_type": "code",
   "execution_count": 23,
   "metadata": {},
   "outputs": [
    {
     "data": {
      "text/plain": [
       "6"
      ]
     },
     "execution_count": 23,
     "metadata": {},
     "output_type": "execute_result"
    }
   ],
   "source": [
    "# Ví dụ. Hàm đệ quy tính n!\n",
    "def factorial(n):\n",
    "    if n == 0:\n",
    "        return 1\n",
    "    return n * factorial(n - 1)\n",
    "\n",
    "n = 3\n",
    "factorial(n)"
   ]
  },
  {
   "cell_type": "markdown",
   "metadata": {},
   "source": [
    "# Bài tập\n",
    "\n",
    "- Nhập vào một năm, viết hàm cho biết năm đó thuộc thế kỷ thứ mấy?\n",
    "- In số lớn nhất trong ba số a, b và c.\n",
    "- Nhập vào một số nguyên dương n từ 0-99 và in ra số n bằng chữ. Ví dụ: n = 27 in ra màn hình dòng chữ \"Hai muoi bay\".\n",
    "- Nhập vào một mật khẩu, kiểm tra mật khẩu đó có an toàn hay không? Mật khẩu an toàn phải thỏa các điều kiện: chiều dài từ 8-20 ký tự; phải có chữ hoa, chữ thường và số.\n",
    "- Mật mã Caesar là một mật mã dịch chuyển. Mỗi ký tự trong bản rõ được thay thế bằng một ký tự cách nó một đoạn trong bảng chữ cái để tạo thành bản mã. Giả sử chọn n = 3, ký tự A sẽ được thay bằng D. Cài đặt hàm mã hóa và giải mã chuỗi ký tự nhập từ bàn phím."
   ]
  }
 ],
 "metadata": {
  "kernelspec": {
   "display_name": "Python 3",
   "language": "python",
   "name": "python3"
  },
  "language_info": {
   "codemirror_mode": {
    "name": "ipython",
    "version": 3
   },
   "file_extension": ".py",
   "mimetype": "text/x-python",
   "name": "python",
   "nbconvert_exporter": "python",
   "pygments_lexer": "ipython3",
   "version": "3.7.4"
  }
 },
 "nbformat": 4,
 "nbformat_minor": 4
}
