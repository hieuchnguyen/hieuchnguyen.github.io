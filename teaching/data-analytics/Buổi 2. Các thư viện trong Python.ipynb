{
 "cells": [
  {
   "cell_type": "markdown",
   "metadata": {},
   "source": [
    "# Thông tin chung\n",
    "\n",
    "**Mục tiêu buổi học**\n",
    "\n",
    "- Giới thiệu các thư viện phổ biến được dùng để phân tích dữ liệu trong Python.\n",
    "- Hướng dẫn một số thao tác với thư viện Numpy, Pandas, Matplotlib, ...\n",
    "\n",
    "**Kiến thức và kỹ năng đạt được**\n",
    "\n",
    "- Biết cách sử dụng các hàm trong thư viện.\n",
    "- Áp dụng cài đặt được các bài tập thực hành.\n",
    "\n",
    "**Công cụ thực hành**\n",
    "\n",
    "- Ngôn ngữ lập trình: Python\n",
    "- Công cụ thực hành: Anaconda, colab\n",
    "\n",
    "**Thời gian thực hành**: 3 tiết"
   ]
  },
  {
   "cell_type": "markdown",
   "metadata": {},
   "source": [
    "# Nội dung lý thuyết\n",
    "\n",
    "Python là một ngôn ngữ lập trình mã nguồn mở và có rất nhiều thư viện mã nguồn mở. Trong lĩnh vực phân tích dữ liệu, nhiều thư viện đã được phát triển chia sẻ để mọi người có thể lập trình dễ dàng, nhanh chóng.\n",
    "\n",
    "**Một số thư viện phổ biến**\n",
    "\n",
    "- Numpy (https://numpy.org): hỗ trợ các tính toán khoa học và các thao tác với mảng, ma trận\n",
    "- Pandas (https://pandas.pydata.org/): cung cấp chức năng đọc và thao tác trên dữ liệu từ nhiều nguồn khác nhau\n",
    "- Matplotlib (https://matplotlib.org/): mô phỏng, vẽ biểu đồ dữ liệu"
   ]
  },
  {
   "cell_type": "markdown",
   "metadata": {},
   "source": [
    "# Nội dung thực hành"
   ]
  },
  {
   "cell_type": "markdown",
   "metadata": {},
   "source": [
    "\n",
    "## Numpy\n",
    "\n",
    "### Giới thiệu\n",
    "\n",
    "**Numpy** là một thư viện hỗ trợ các tính toán trong khoa học\n",
    "\n",
    "- Các mảng nhiều chiều\n",
    "- Các hàm tính toán phức tạp\n",
    "- Có thể tích hợp được ngôn ngữ C/C++, Pascal\n",
    "- Dễ dàng thực hiện các phép toán trong đại số tuyến tính, biến đổi Fourier, sinh số ngẫu nhiên, ...\n",
    "\n",
    "Cần phải thêm vào thư viện Numpy trước khi sử dụng.\n",
    "\n",
    "```python\n",
    "import numpy as np\n",
    "```\n",
    "\n",
    "\n",
    "### Numpy và các thao tác trên ma trận\n",
    "\n",
    "#### Khai báo và khởi tạo ma trận\n",
    "\n",
    "Numpy cung cấp sẵn hàm để tạo mảng 2 chiều:\n",
    "\n",
    "- numpy.array(): tạo mảng với giá trị trực tiếp từ các mảng 1 chiều hay các bộ"
   ]
  },
  {
   "cell_type": "code",
   "execution_count": 1,
   "metadata": {},
   "outputs": [
    {
     "name": "stdout",
     "output_type": "stream",
     "text": [
      "[[1 2 3]\n",
      " [4 5 6]\n",
      " [7 8 9]]\n",
      "(3, 3)\n"
     ]
    }
   ],
   "source": [
    "import numpy as np\n",
    "\n",
    "# Tạo mảng 2 chiều từ các mảng 1 chiều/danh sách\n",
    "A = np.array([[1, 2, 3], \n",
    "              [4, 5, 6], \n",
    "              [7, 8, 9]])\n",
    "print(A)\n",
    "# Lấy số dòng, số cột của mảng 2 chiều\n",
    "print(A.shape)"
   ]
  },
  {
   "cell_type": "code",
   "execution_count": 2,
   "metadata": {},
   "outputs": [
    {
     "name": "stdout",
     "output_type": "stream",
     "text": [
      "[[1 2 3]\n",
      " [4 5 6]\n",
      " [7 8 9]]\n"
     ]
    }
   ],
   "source": [
    "import numpy as np\n",
    "# Tạo mảng 2 chiều từ các bộ dữ liệu\n",
    "A = np.array([(1, 2, 3), \n",
    "              (4, 5, 6), \n",
    "              (7, 8, 9)])\n",
    "print(A)"
   ]
  },
  {
   "cell_type": "markdown",
   "metadata": {},
   "source": [
    "Ngoài ra, Numpy cung cấp một số hàm để sinh mảng tự động:\n",
    "\n",
    "- arange(): tạo mảng từ một dãy số liên tiếp nhau\n",
    "- linspace(): tạo mảng số thực trong một khoảng giá trị\n",
    "- full(), ones(), zeros(), empty()\n",
    "- eye(): tạo ma trận đơn vị\n",
    "- diag(): tạo ma trận đường chéo\n",
    "- max(), min(), sum()"
   ]
  },
  {
   "cell_type": "code",
   "execution_count": 3,
   "metadata": {},
   "outputs": [
    {
     "name": "stdout",
     "output_type": "stream",
     "text": [
      "[ 0 10 20 30 40 50 60 70 80 90]\n"
     ]
    }
   ],
   "source": [
    "import numpy as np\n",
    "\n",
    "# tạo mảng số nguyên từ dãy số liên tiếp nhau\n",
    "A = np.arange(0, 100, step = 10)\n",
    "print(A)"
   ]
  },
  {
   "cell_type": "code",
   "execution_count": 4,
   "metadata": {},
   "outputs": [
    {
     "name": "stdout",
     "output_type": "stream",
     "text": [
      "[0.   0.25 0.5  0.75 1.  ]\n"
     ]
    }
   ],
   "source": [
    "import numpy as np\n",
    "\n",
    "# tạo mảng n số thực từ dãy số liên tiếp nhau\n",
    "A = np.linspace(0, 1, num = 5)\n",
    "print(A)"
   ]
  },
  {
   "cell_type": "code",
   "execution_count": 5,
   "metadata": {},
   "outputs": [
    {
     "name": "stdout",
     "output_type": "stream",
     "text": [
      "[[0.22129215 0.9156866  0.15837862 0.28924817 0.92024666]\n",
      " [0.94744298 0.42770137 0.25335635 0.13025597 0.70806497]\n",
      " [0.09214565 0.48303941 0.83851908 0.1816135  0.70176409]]\n"
     ]
    }
   ],
   "source": [
    "import numpy as np\n",
    "\n",
    "# Tạo ma trận ngẫu nhiên kích thước gồm 3 dòng, 5 cột\n",
    "A = np.random.rand(3, 5)\n",
    "print(A)"
   ]
  },
  {
   "cell_type": "code",
   "execution_count": 6,
   "metadata": {},
   "outputs": [
    {
     "name": "stdout",
     "output_type": "stream",
     "text": [
      "[[1. 0. 0. 0.]\n",
      " [0. 1. 0. 0.]\n",
      " [0. 0. 1. 0.]\n",
      " [0. 0. 0. 1.]]\n",
      "[[0. 0. 1. 0.]\n",
      " [0. 0. 0. 1.]\n",
      " [0. 0. 0. 0.]\n",
      " [0. 0. 0. 0.]]\n",
      "[[0. 0. 0. 0.]\n",
      " [0. 0. 0. 0.]\n",
      " [1. 0. 0. 0.]\n",
      " [0. 1. 0. 0.]]\n",
      "[[1. 1.]\n",
      " [1. 1.]\n",
      " [1. 1.]]\n",
      "[[0. 0. 0.]\n",
      " [0. 0. 0.]]\n",
      "[[5 5 5]\n",
      " [5 5 5]\n",
      " [5 5 5]]\n",
      "[[0.38721807 0.9812286  0.63061338]\n",
      " [0.55754108 0.91063159 0.5083067 ]\n",
      " [0.09739481 0.72867412 0.5313471 ]]\n"
     ]
    }
   ],
   "source": [
    "import numpy as np\n",
    "\n",
    "# tạo ma trận đơn vị\n",
    "A = np.eye(4)\n",
    "print(A)\n",
    "B = np.eye(4, k = 2)\n",
    "print(B)\n",
    "C = np.eye(4, k = -2)\n",
    "print(C)\n",
    "\n",
    "# tạo ma trận tất cả giá trị bằng 1\n",
    "D = np.ones([3, 2])\n",
    "print(D)\n",
    "\n",
    "# tạo ma trận tất cả giá trị bằng 0\n",
    "E = np.zeros([2, 3])\n",
    "print(E)\n",
    "\n",
    "# tạo ma trận tất cả giá trị bằng nhau\n",
    "F = np.full((3, 3), 5)\n",
    "print(F)\n",
    "\n",
    "# tạo ma trận tất cả giá trị được sinh giá trị ngẫu nhiên\n",
    "G = np.random.random((3, 3))\n",
    "print(G)"
   ]
  },
  {
   "cell_type": "markdown",
   "metadata": {},
   "source": [
    "### Truy xuất dữ liệu\n",
    "\n",
    "Sử dụng toán tử [] để truy xuất phần tử:\n",
    "\n",
    "- Tại vị trí dòng i, cột j\n",
    "- Theo dòng\n",
    "- Theo cột\n",
    "- Theo lát cắt"
   ]
  },
  {
   "cell_type": "code",
   "execution_count": 7,
   "metadata": {},
   "outputs": [
    {
     "name": "stdout",
     "output_type": "stream",
     "text": [
      "[[ 1  2  3  4]\n",
      " [ 5  6  7  8]\n",
      " [ 9 10 11 12]\n",
      " [13 14 15 16]]\n"
     ]
    }
   ],
   "source": [
    "import numpy as np\n",
    "\n",
    "A = np.array([[1, 2, 3, 4], \n",
    "              [5, 6, 7, 8], \n",
    "              [9, 10, 11, 12],\n",
    "             [13, 14, 15, 16]])\n",
    "print(A)"
   ]
  },
  {
   "cell_type": "code",
   "execution_count": 8,
   "metadata": {},
   "outputs": [
    {
     "name": "stdout",
     "output_type": "stream",
     "text": [
      "8\n"
     ]
    }
   ],
   "source": [
    "print(A[1, 3])"
   ]
  },
  {
   "cell_type": "code",
   "execution_count": 9,
   "metadata": {},
   "outputs": [
    {
     "name": "stdout",
     "output_type": "stream",
     "text": [
      "[5 6 7 8]\n",
      "[[ 5  6  7  8]\n",
      " [ 9 10 11 12]]\n"
     ]
    }
   ],
   "source": [
    "# row\n",
    "print(A[1, :])\n",
    "print(A[1:3, :])"
   ]
  },
  {
   "cell_type": "code",
   "execution_count": 10,
   "metadata": {},
   "outputs": [
    {
     "name": "stdout",
     "output_type": "stream",
     "text": [
      "[ 2  6 10 14]\n",
      "[[ 2  3]\n",
      " [ 6  7]\n",
      " [10 11]\n",
      " [14 15]]\n"
     ]
    }
   ],
   "source": [
    "# column\n",
    "print(A[:, 1])\n",
    "print(A[:, 1:3])"
   ]
  },
  {
   "cell_type": "code",
   "execution_count": 11,
   "metadata": {},
   "outputs": [
    {
     "name": "stdout",
     "output_type": "stream",
     "text": [
      "[6 7]\n",
      "[ 6 10]\n",
      "[[ 6  7  8]\n",
      " [10 11 12]\n",
      " [14 15 16]]\n",
      "[[ 1  2  3]\n",
      " [ 5  6  7]\n",
      " [ 9 10 11]]\n"
     ]
    }
   ],
   "source": [
    "# slicing\n",
    "print(A[1, 1:3])\n",
    "print(A[1:3, 1])\n",
    "print(A[1:, 1:])\n",
    "print(A[:3, :3])"
   ]
  },
  {
   "cell_type": "code",
   "execution_count": 12,
   "metadata": {},
   "outputs": [
    {
     "name": "stdout",
     "output_type": "stream",
     "text": [
      "[[ 1  2  3  4]\n",
      " [ 5  6  7  8]\n",
      " [ 9 10 11 12]\n",
      " [13 14 15 16]]\n"
     ]
    }
   ],
   "source": [
    "print(A)"
   ]
  },
  {
   "cell_type": "code",
   "execution_count": 13,
   "metadata": {},
   "outputs": [
    {
     "name": "stdout",
     "output_type": "stream",
     "text": [
      "[28 32 36 40]\n"
     ]
    }
   ],
   "source": [
    "print(np.sum(A, axis = 0))"
   ]
  },
  {
   "cell_type": "code",
   "execution_count": 14,
   "metadata": {},
   "outputs": [
    {
     "name": "stdout",
     "output_type": "stream",
     "text": [
      "[10 26 42 58]\n"
     ]
    }
   ],
   "source": [
    "print(np.sum(A, axis = 1))"
   ]
  },
  {
   "cell_type": "markdown",
   "metadata": {},
   "source": [
    "### Các thao tác xử lý dữ liệu\n",
    "\n",
    "**Phép cộng/trừ ma trận**\n",
    "\n",
    "> Cho $A$ là ma trận kích thước $m \\times n$ và $B$ là ma trận kích thước $n \\times p$, phép cộng hai ma trận được định nghĩa bởi công thức:\n",
    "\n",
    "\\begin{equation}\n",
    "C_{ij} = A_{ij} + B_{ij}\n",
    "\\end{equation}"
   ]
  },
  {
   "cell_type": "code",
   "execution_count": 15,
   "metadata": {},
   "outputs": [
    {
     "name": "stdout",
     "output_type": "stream",
     "text": [
      "[[1 2 3]\n",
      " [4 5 6]]\n",
      "[[0 1 2]\n",
      " [3 4 5]]\n",
      "[[ 1  3  5]\n",
      " [ 7  9 11]]\n"
     ]
    }
   ],
   "source": [
    "import numpy as np\n",
    "\n",
    "A = np.array([[1, 2, 3], \n",
    "              [4, 5, 6]])\n",
    "print(A)\n",
    "\n",
    "B = np.array([[0, 1, 2], \n",
    "              [3, 4, 5]])\n",
    "print(B)\n",
    "\n",
    "#C = A + B\n",
    "C = np.add(A, B)\n",
    "# C = np.substract(A, B)\n",
    "print(C)"
   ]
  },
  {
   "cell_type": "markdown",
   "metadata": {},
   "source": [
    "**Phép nhân ma trận**\n",
    "\n",
    "> Cho $A$ là ma trận kích thước $m \\times n$ và một số vô hướng $b$, phép nhân được định nghĩa bởi công thức:\n",
    "\\begin{equation}\n",
    "C_{ij} = b \\times A_{ij}\n",
    "\\end{equation}\n",
    "\n",
    "> Cho $A$ là ma trận kích thước $m \\times n$ và $B$ là ma trận kích thước $n \\times p$, phép nhân hai ma trận được định nghĩa bởi công thức:\n",
    "\n",
    "\\begin{equation}\n",
    "C_{ij}=\\sum_{k=1}^{n} A_{ik} B_{kj}\n",
    "\\end{equation}"
   ]
  },
  {
   "cell_type": "code",
   "execution_count": 16,
   "metadata": {},
   "outputs": [
    {
     "name": "stdout",
     "output_type": "stream",
     "text": [
      "[[1 2 3]\n",
      " [4 5 6]]\n",
      "[[ 2  4  6]\n",
      " [ 8 10 12]]\n"
     ]
    }
   ],
   "source": [
    "import numpy as np\n",
    "\n",
    "A = np.array([[1, 2, 3], [4, 5, 6]])\n",
    "print(A)\n",
    "print(2 * A)"
   ]
  },
  {
   "cell_type": "code",
   "execution_count": 17,
   "metadata": {},
   "outputs": [
    {
     "name": "stdout",
     "output_type": "stream",
     "text": [
      "[[1 2 3]\n",
      " [4 5 6]]\n",
      "[[0 1]\n",
      " [2 3]\n",
      " [4 5]]\n",
      "[[16 22]\n",
      " [34 49]]\n"
     ]
    }
   ],
   "source": [
    "import numpy as np\n",
    "\n",
    "A = np.array([[1, 2, 3], \n",
    "              [4, 5, 6]])\n",
    "print(A)\n",
    "\n",
    "B = np.array([[0, 1], \n",
    "              [2, 3], \n",
    "              [4, 5]])\n",
    "print(B)\n",
    "\n",
    "C = np.dot(A, B)\n",
    "print(C)"
   ]
  },
  {
   "cell_type": "markdown",
   "metadata": {},
   "source": [
    "**Các phép biến đổi trên ma trận**\n",
    "\n",
    "- transpose: chuyển vị ma trận\n",
    "- reshape: thay đổi kích thước ma trận"
   ]
  },
  {
   "cell_type": "code",
   "execution_count": 18,
   "metadata": {},
   "outputs": [
    {
     "name": "stdout",
     "output_type": "stream",
     "text": [
      "[[1 2 3]\n",
      " [4 5 6]]\n",
      "[[1 4]\n",
      " [2 5]\n",
      " [3 6]]\n"
     ]
    }
   ],
   "source": [
    "import numpy as np\n",
    "\n",
    "import numpy as np\n",
    "\n",
    "A = np.array([\n",
    "    [1, 2, 3], \n",
    "    [4, 5, 6]])\n",
    "print(A)\n",
    "\n",
    "print(A.transpose()) #print(A.T)"
   ]
  },
  {
   "cell_type": "code",
   "execution_count": 19,
   "metadata": {},
   "outputs": [
    {
     "name": "stdout",
     "output_type": "stream",
     "text": [
      "[[1 2 3 4 5 6]]\n"
     ]
    }
   ],
   "source": [
    "print(A.reshape(1, 6))"
   ]
  },
  {
   "cell_type": "markdown",
   "metadata": {},
   "source": [
    "#### Tính ma trận nghịch đảo\n",
    "\n",
    "**Định thức của ma trận**\n",
    "\n",
    "Cho $A$ là ma trận vuông cấp $2$ như sau:\n",
    "\\\\[\n",
    "A = \\left[\n",
    "\\begin{array}{rr}\n",
    "{a} & {b} \\\\\n",
    "{c} & {d}\n",
    "\\end{array}\n",
    "\\right]\n",
    "\\\\]\n",
    "\n",
    "- Định thức của ma trận $A$ được tính bởi công thức\n",
    "\\begin{equation}\n",
    "\\operatorname{det} A = \n",
    "\\left|\\begin{array}{ll}\n",
    "{a} & {b} \\\\\n",
    "{c} & {d}\n",
    "\\end{array}\\right| = ad - bc\n",
    "\\end{equation}"
   ]
  },
  {
   "cell_type": "code",
   "execution_count": 20,
   "metadata": {},
   "outputs": [
    {
     "name": "stdout",
     "output_type": "stream",
     "text": [
      "[[ 1 -1  1]\n",
      " [ 0 -2  1]\n",
      " [-2 -3  0]]\n",
      "1.0\n"
     ]
    }
   ],
   "source": [
    "import numpy as np\n",
    "\n",
    "A = np.array([[1, -1, 1], \n",
    "              [0, -2, 1], \n",
    "              [-2, -3, 0]])\n",
    "print(A)\n",
    "print(np.linalg.det(A))"
   ]
  },
  {
   "cell_type": "markdown",
   "metadata": {},
   "source": [
    "**Nghịch đảo ma trận**\n",
    "\n",
    "Bài toán đặt ra: Giải phương trình ma trận $AX = B$ ?\n",
    "\n",
    "**Các khái niệm**\n",
    "\n",
    "Cho $A$ là ma trận vuông cấp $n$, $A$ được gọi là ma trận khả nghịch nếu tồn tại ma trận nghịch đảo $A^{-1}$ thỏa điều kiện\n",
    "\n",
    "\\begin{equation}\n",
    "A A^{-1} = A^{-1} A = I\n",
    "\\end{equation}"
   ]
  },
  {
   "cell_type": "code",
   "execution_count": 21,
   "metadata": {},
   "outputs": [
    {
     "name": "stdout",
     "output_type": "stream",
     "text": [
      "[[ 1 -1  1]\n",
      " [ 0 -2  1]\n",
      " [-2 -3  0]]\n",
      "det =  1.0\n",
      "[[ 3. -3.  1.]\n",
      " [-2.  2. -1.]\n",
      " [-4.  5. -2.]]\n",
      "[[ 1 -1  1]\n",
      " [ 0 -2  1]\n",
      " [-2 -3  0]]\n"
     ]
    }
   ],
   "source": [
    "import numpy as np\n",
    "\n",
    "A = np.array([[1, -1, 1], \n",
    "              [0, -2, 1], \n",
    "              [-2, -3, 0]])\n",
    "print(A)\n",
    "print(\"det = \", np.linalg.det(A))\n",
    "\n",
    "# Sử dụng hàm inv\n",
    "B = np.linalg.inv(A)\n",
    "print(B)\n",
    "\n",
    "C = np.dot(A, B)\n",
    "print(A)"
   ]
  },
  {
   "cell_type": "markdown",
   "metadata": {},
   "source": [
    "Giải hệ phương trình tuyến tính\n",
    "\n",
    "\\begin{equation}\n",
    "\\begin{aligned}\n",
    "a_{0,0} x_{0}+a_{0,1} x_{2}+\\cdots+a_{0, n} x_{n} &=b_{0} \\\\\n",
    "a_{1,0} x_{0}+a_{1,1} x_{2}+\\cdots+a_{1, n} x_{n} &=b_{1} \\\\\n",
    "\\vdots & \\\\\n",
    "a_{m, 0} x_{0}+a_{m, 1} x_{2}+\\cdots+a_{m, n} x_{n} &=b_{m}\n",
    "\\end{aligned}\n",
    "\\end{equation}\n",
    "\n",
    "\\begin{equation}\n",
    "A=\\left[\\begin{array}{cccc}\n",
    "{a_{0,0}} & {a_{0,1}} & {\\cdots} & {a_{0, n}} \\\\\n",
    "{a_{1,0}} & {a_{1,1}} & {\\cdots} & {a_{1, n}} \\\\\n",
    "{\\vdots} & {} & {} & {\\vdots} \\\\\n",
    "{a_{m, 0}} & {a_{m, 1}} & {\\cdots} & {a_{m, n}}\n",
    "\\end{array}\\right], \\quad \\mathbf{x}=\\left[\\begin{array}{c}\n",
    "{x_{0}} \\\\\n",
    "{x_{1}} \\\\\n",
    "{\\vdots} \\\\\n",
    "{x_{n}}\n",
    "\\end{array}\\right] \\quad, \\quad \\mathbf{b}=\\left[\\begin{array}{c}\n",
    "{b_{0}} \\\\\n",
    "{b_{1}} \\\\\n",
    "{\\vdots} \\\\\n",
    "{b_{m}}\n",
    "\\end{array}\\right]\n",
    "\\end{equation}"
   ]
  },
  {
   "cell_type": "code",
   "execution_count": 22,
   "metadata": {},
   "outputs": [
    {
     "name": "stdout",
     "output_type": "stream",
     "text": [
      "[ 4. -2. -9.]\n"
     ]
    }
   ],
   "source": [
    "import numpy as np\n",
    "\n",
    "A = np.array([[6, 4, 1],\n",
    "              [1, 8, -2],\n",
    "              [3, 2, 0]])\n",
    "b = np.array([7, 6, 8])\n",
    "\n",
    "x = np.linalg.solve(A, b)\n",
    "\n",
    "print(x)"
   ]
  },
  {
   "cell_type": "markdown",
   "metadata": {},
   "source": [
    "## Pandas"
   ]
  },
  {
   "cell_type": "markdown",
   "metadata": {},
   "source": [
    "### Giới thiệu\n",
    "\n",
    "**Pandas** là một thư viện mã nguồn mở, thường được sử dụng trong phân tích dữ liệu.\n",
    "\n",
    "- Xử lý được nhiều loại dữ liệu khác nhau: chuỗi thời gian, bảng dữ liệu, ...\n",
    "- Có thể import từ nhiều nguồn dữ liệu khác nhau\n",
    "\n",
    "**Kiểu dữ liệu**\n",
    "\n",
    "- Chuỗi thời gian (time series): dữ liệu cột\n",
    "- Bảng dữ liệu (data frame): dữ liệu gồm nhiều dòng, nhiều cột"
   ]
  },
  {
   "cell_type": "markdown",
   "metadata": {},
   "source": [
    "#### Series\n",
    "\n",
    "**Khai báo và khởi tạo**"
   ]
  },
  {
   "cell_type": "code",
   "execution_count": 23,
   "metadata": {},
   "outputs": [
    {
     "name": "stdout",
     "output_type": "stream",
     "text": [
      "0    1\n",
      "1    3\n",
      "2    5\n",
      "3    7\n",
      "4    9\n",
      "dtype: int64\n",
      "a    1\n",
      "b    3\n",
      "c    5\n",
      "d    7\n",
      "e    9\n",
      "dtype: int64\n"
     ]
    }
   ],
   "source": [
    "import pandas as pd\n",
    "\n",
    "s1 = pd.Series(data = [1, 3, 5, 7, 9])\n",
    "print(s1)\n",
    "\n",
    "s2 = pd.Series(data = [1, 3, 5, 7, 9], index = [\"a\", \"b\", \"c\", \"d\", \"e\"])\n",
    "print(s2)"
   ]
  },
  {
   "cell_type": "markdown",
   "metadata": {},
   "source": [
    "**Truy xuất phần tử**"
   ]
  },
  {
   "cell_type": "code",
   "execution_count": 24,
   "metadata": {},
   "outputs": [
    {
     "name": "stdout",
     "output_type": "stream",
     "text": [
      "5\n",
      "9\n",
      "a    1\n",
      "b    3\n",
      "dtype: int64\n",
      "d    7\n",
      "e    9\n",
      "dtype: int64\n"
     ]
    }
   ],
   "source": [
    "print(s2[2])\n",
    "print(s2['e'])\n",
    "# first + 2\n",
    "print(s2[:2])\n",
    "# last - 2\n",
    "print(s2[-2:])"
   ]
  },
  {
   "cell_type": "code",
   "execution_count": 25,
   "metadata": {},
   "outputs": [
    {
     "name": "stdout",
     "output_type": "stream",
     "text": [
      "   col1  col2  col3\n",
      "0     1     4     7\n",
      "1     2     5     8\n",
      "2     3     6     9\n",
      "   col1  col2  col3\n",
      "2     1     4     7\n",
      "4     2     5     8\n",
      "6     3     6     9\n",
      "      col1  col2  col3\n",
      "row1     1     4     7\n",
      "row2     2     5     8\n",
      "row3     3     6     9\n"
     ]
    }
   ],
   "source": [
    "import pandas as pd\n",
    "\n",
    "# Chỉ mục tăng tự động\n",
    "df1 = pd.DataFrame({\"col1\" : [1 ,2, 3], \n",
    "                    \"col2\" : [4, 5, 6], \n",
    "                    \"col3\" : [7, 8, 9]})\n",
    "print(df1)\n",
    "\n",
    "# Chỉ mục xác định\n",
    "df2 = pd.DataFrame({\"col1\" : [1 ,2, 3], \n",
    "                    \"col2\" : [4, 5, 6], \n",
    "                    \"col3\" : [7, 8, 9]}, \n",
    "                   index = [2, 4, 6])\n",
    "print(df2)\n",
    "\n",
    "# Chỉ mục dạng chuỗi\n",
    "df3 = pd.DataFrame({\"col1\" : [1 ,2, 3], \n",
    "                    \"col2\" : [4, 5, 6], \n",
    "                    \"col3\" : [7, 8, 9]}, \n",
    "                   index = [\"row1\", \"row2\", \"row3\"])\n",
    "print(df3)"
   ]
  },
  {
   "cell_type": "markdown",
   "metadata": {},
   "source": [
    "#### DataFrame\n",
    "\n",
    "**Khai báo và khởi tạo**"
   ]
  },
  {
   "cell_type": "code",
   "execution_count": 26,
   "metadata": {},
   "outputs": [
    {
     "data": {
      "text/html": [
       "<div>\n",
       "<style scoped>\n",
       "    .dataframe tbody tr th:only-of-type {\n",
       "        vertical-align: middle;\n",
       "    }\n",
       "\n",
       "    .dataframe tbody tr th {\n",
       "        vertical-align: top;\n",
       "    }\n",
       "\n",
       "    .dataframe thead th {\n",
       "        text-align: right;\n",
       "    }\n",
       "</style>\n",
       "<table border=\"1\" class=\"dataframe\">\n",
       "  <thead>\n",
       "    <tr style=\"text-align: right;\">\n",
       "      <th></th>\n",
       "      <th>population</th>\n",
       "      <th>area</th>\n",
       "    </tr>\n",
       "  </thead>\n",
       "  <tbody>\n",
       "    <tr>\n",
       "      <td>London</td>\n",
       "      <td>8615246</td>\n",
       "      <td>1572.00</td>\n",
       "    </tr>\n",
       "    <tr>\n",
       "      <td>Berlin</td>\n",
       "      <td>3562166</td>\n",
       "      <td>891.85</td>\n",
       "    </tr>\n",
       "    <tr>\n",
       "      <td>Madrid</td>\n",
       "      <td>3165235</td>\n",
       "      <td>605.77</td>\n",
       "    </tr>\n",
       "    <tr>\n",
       "      <td>Rome</td>\n",
       "      <td>2874038</td>\n",
       "      <td>1285.00</td>\n",
       "    </tr>\n",
       "    <tr>\n",
       "      <td>Paris</td>\n",
       "      <td>2273305</td>\n",
       "      <td>105.40</td>\n",
       "    </tr>\n",
       "    <tr>\n",
       "      <td>Vienna</td>\n",
       "      <td>1805681</td>\n",
       "      <td>414.60</td>\n",
       "    </tr>\n",
       "    <tr>\n",
       "      <td>Bucharest</td>\n",
       "      <td>1803425</td>\n",
       "      <td>228.00</td>\n",
       "    </tr>\n",
       "    <tr>\n",
       "      <td>Hamburg</td>\n",
       "      <td>1760433</td>\n",
       "      <td>755.00</td>\n",
       "    </tr>\n",
       "    <tr>\n",
       "      <td>Budapest</td>\n",
       "      <td>1754000</td>\n",
       "      <td>525.20</td>\n",
       "    </tr>\n",
       "    <tr>\n",
       "      <td>Warsaw</td>\n",
       "      <td>1740119</td>\n",
       "      <td>517.00</td>\n",
       "    </tr>\n",
       "    <tr>\n",
       "      <td>Barcelona</td>\n",
       "      <td>1602386</td>\n",
       "      <td>101.90</td>\n",
       "    </tr>\n",
       "    <tr>\n",
       "      <td>Munich</td>\n",
       "      <td>1493900</td>\n",
       "      <td>310.40</td>\n",
       "    </tr>\n",
       "    <tr>\n",
       "      <td>Milan</td>\n",
       "      <td>1350680</td>\n",
       "      <td>181.80</td>\n",
       "    </tr>\n",
       "  </tbody>\n",
       "</table>\n",
       "</div>"
      ],
      "text/plain": [
       "           population     area\n",
       "London        8615246  1572.00\n",
       "Berlin        3562166   891.85\n",
       "Madrid        3165235   605.77\n",
       "Rome          2874038  1285.00\n",
       "Paris         2273305   105.40\n",
       "Vienna        1805681   414.60\n",
       "Bucharest     1803425   228.00\n",
       "Hamburg       1760433   755.00\n",
       "Budapest      1754000   525.20\n",
       "Warsaw        1740119   517.00\n",
       "Barcelona     1602386   101.90\n",
       "Munich        1493900   310.40\n",
       "Milan         1350680   181.80"
      ]
     },
     "execution_count": 26,
     "metadata": {},
     "output_type": "execute_result"
    }
   ],
   "source": [
    "import pandas as pd\n",
    "\n",
    "cities = {\"city\": [\"London\", \"Berlin\", \"Madrid\", \"Rome\", \n",
    "                   \"Paris\", \"Vienna\", \"Bucharest\", \"Hamburg\", \n",
    "                   \"Budapest\", \"Warsaw\", \"Barcelona\", \n",
    "                   \"Munich\", \"Milan\"],\n",
    "          \"population\": [8615246, 3562166, 3165235, 2874038,\n",
    "                         2273305, 1805681, 1803425, 1760433,\n",
    "                         1754000, 1740119, 1602386, 1493900,\n",
    "                         1350680],\n",
    "          \"area\" : [1572, 891.85, 605.77, 1285, \n",
    "                    105.4, 414.6, 228, 755, \n",
    "                    525.2, 517, 101.9, 310.4, \n",
    "                    181.8]\n",
    "}\n",
    "\n",
    "# Tạo DataFrame từ dữ liệu có sẵn\n",
    "df = pd.DataFrame(cities, \n",
    "                  columns = [\"population\", \"area\"],\n",
    "                  index = cities[\"city\"])\n",
    "df"
   ]
  },
  {
   "cell_type": "code",
   "execution_count": 27,
   "metadata": {},
   "outputs": [
    {
     "data": {
      "text/html": [
       "<div>\n",
       "<style scoped>\n",
       "    .dataframe tbody tr th:only-of-type {\n",
       "        vertical-align: middle;\n",
       "    }\n",
       "\n",
       "    .dataframe tbody tr th {\n",
       "        vertical-align: top;\n",
       "    }\n",
       "\n",
       "    .dataframe thead th {\n",
       "        text-align: right;\n",
       "    }\n",
       "</style>\n",
       "<table border=\"1\" class=\"dataframe\">\n",
       "  <thead>\n",
       "    <tr style=\"text-align: right;\">\n",
       "      <th></th>\n",
       "      <th>population</th>\n",
       "      <th>area</th>\n",
       "    </tr>\n",
       "  </thead>\n",
       "  <tbody>\n",
       "    <tr>\n",
       "      <td>London</td>\n",
       "      <td>8615246</td>\n",
       "      <td>1572.00</td>\n",
       "    </tr>\n",
       "    <tr>\n",
       "      <td>Berlin</td>\n",
       "      <td>3562166</td>\n",
       "      <td>891.85</td>\n",
       "    </tr>\n",
       "    <tr>\n",
       "      <td>Madrid</td>\n",
       "      <td>3165235</td>\n",
       "      <td>605.77</td>\n",
       "    </tr>\n",
       "    <tr>\n",
       "      <td>Rome</td>\n",
       "      <td>2874038</td>\n",
       "      <td>1285.00</td>\n",
       "    </tr>\n",
       "    <tr>\n",
       "      <td>Paris</td>\n",
       "      <td>2273305</td>\n",
       "      <td>105.40</td>\n",
       "    </tr>\n",
       "  </tbody>\n",
       "</table>\n",
       "</div>"
      ],
      "text/plain": [
       "        population     area\n",
       "London     8615246  1572.00\n",
       "Berlin     3562166   891.85\n",
       "Madrid     3165235   605.77\n",
       "Rome       2874038  1285.00\n",
       "Paris      2273305   105.40"
      ]
     },
     "execution_count": 27,
     "metadata": {},
     "output_type": "execute_result"
    }
   ],
   "source": [
    "df.head() \n",
    "#df.head(10)"
   ]
  },
  {
   "cell_type": "code",
   "execution_count": 28,
   "metadata": {},
   "outputs": [
    {
     "data": {
      "text/html": [
       "<div>\n",
       "<style scoped>\n",
       "    .dataframe tbody tr th:only-of-type {\n",
       "        vertical-align: middle;\n",
       "    }\n",
       "\n",
       "    .dataframe tbody tr th {\n",
       "        vertical-align: top;\n",
       "    }\n",
       "\n",
       "    .dataframe thead th {\n",
       "        text-align: right;\n",
       "    }\n",
       "</style>\n",
       "<table border=\"1\" class=\"dataframe\">\n",
       "  <thead>\n",
       "    <tr style=\"text-align: right;\">\n",
       "      <th></th>\n",
       "      <th>population</th>\n",
       "      <th>area</th>\n",
       "    </tr>\n",
       "  </thead>\n",
       "  <tbody>\n",
       "    <tr>\n",
       "      <td>Budapest</td>\n",
       "      <td>1754000</td>\n",
       "      <td>525.2</td>\n",
       "    </tr>\n",
       "    <tr>\n",
       "      <td>Warsaw</td>\n",
       "      <td>1740119</td>\n",
       "      <td>517.0</td>\n",
       "    </tr>\n",
       "    <tr>\n",
       "      <td>Barcelona</td>\n",
       "      <td>1602386</td>\n",
       "      <td>101.9</td>\n",
       "    </tr>\n",
       "    <tr>\n",
       "      <td>Munich</td>\n",
       "      <td>1493900</td>\n",
       "      <td>310.4</td>\n",
       "    </tr>\n",
       "    <tr>\n",
       "      <td>Milan</td>\n",
       "      <td>1350680</td>\n",
       "      <td>181.8</td>\n",
       "    </tr>\n",
       "  </tbody>\n",
       "</table>\n",
       "</div>"
      ],
      "text/plain": [
       "           population   area\n",
       "Budapest      1754000  525.2\n",
       "Warsaw        1740119  517.0\n",
       "Barcelona     1602386  101.9\n",
       "Munich        1493900  310.4\n",
       "Milan         1350680  181.8"
      ]
     },
     "execution_count": 28,
     "metadata": {},
     "output_type": "execute_result"
    }
   ],
   "source": [
    "df.tail()"
   ]
  },
  {
   "cell_type": "markdown",
   "metadata": {},
   "source": [
    "**Cập nhật dữ liệu**"
   ]
  },
  {
   "cell_type": "code",
   "execution_count": 29,
   "metadata": {},
   "outputs": [
    {
     "data": {
      "text/html": [
       "<div>\n",
       "<style scoped>\n",
       "    .dataframe tbody tr th:only-of-type {\n",
       "        vertical-align: middle;\n",
       "    }\n",
       "\n",
       "    .dataframe tbody tr th {\n",
       "        vertical-align: top;\n",
       "    }\n",
       "\n",
       "    .dataframe thead th {\n",
       "        text-align: right;\n",
       "    }\n",
       "</style>\n",
       "<table border=\"1\" class=\"dataframe\">\n",
       "  <thead>\n",
       "    <tr style=\"text-align: right;\">\n",
       "      <th></th>\n",
       "      <th>population</th>\n",
       "      <th>area</th>\n",
       "      <th>date</th>\n",
       "    </tr>\n",
       "  </thead>\n",
       "  <tbody>\n",
       "    <tr>\n",
       "      <td>London</td>\n",
       "      <td>8615246</td>\n",
       "      <td>1572.00</td>\n",
       "      <td>12/12/2010</td>\n",
       "    </tr>\n",
       "    <tr>\n",
       "      <td>Berlin</td>\n",
       "      <td>3562166</td>\n",
       "      <td>891.85</td>\n",
       "      <td>12/12/2010</td>\n",
       "    </tr>\n",
       "    <tr>\n",
       "      <td>Madrid</td>\n",
       "      <td>3165235</td>\n",
       "      <td>605.77</td>\n",
       "      <td>12/12/2010</td>\n",
       "    </tr>\n",
       "    <tr>\n",
       "      <td>Rome</td>\n",
       "      <td>2874038</td>\n",
       "      <td>1285.00</td>\n",
       "      <td>12/12/2010</td>\n",
       "    </tr>\n",
       "    <tr>\n",
       "      <td>Paris</td>\n",
       "      <td>2273305</td>\n",
       "      <td>105.40</td>\n",
       "      <td>12/12/2010</td>\n",
       "    </tr>\n",
       "    <tr>\n",
       "      <td>Vienna</td>\n",
       "      <td>1805681</td>\n",
       "      <td>414.60</td>\n",
       "      <td>12/12/2010</td>\n",
       "    </tr>\n",
       "    <tr>\n",
       "      <td>Bucharest</td>\n",
       "      <td>1803425</td>\n",
       "      <td>228.00</td>\n",
       "      <td>12/12/2010</td>\n",
       "    </tr>\n",
       "    <tr>\n",
       "      <td>Hamburg</td>\n",
       "      <td>1760433</td>\n",
       "      <td>755.00</td>\n",
       "      <td>12/12/2010</td>\n",
       "    </tr>\n",
       "    <tr>\n",
       "      <td>Budapest</td>\n",
       "      <td>1754000</td>\n",
       "      <td>525.20</td>\n",
       "      <td>12/12/2010</td>\n",
       "    </tr>\n",
       "    <tr>\n",
       "      <td>Warsaw</td>\n",
       "      <td>1740119</td>\n",
       "      <td>517.00</td>\n",
       "      <td>12/12/2010</td>\n",
       "    </tr>\n",
       "    <tr>\n",
       "      <td>Barcelona</td>\n",
       "      <td>1602386</td>\n",
       "      <td>101.90</td>\n",
       "      <td>12/12/2010</td>\n",
       "    </tr>\n",
       "    <tr>\n",
       "      <td>Munich</td>\n",
       "      <td>1493900</td>\n",
       "      <td>310.40</td>\n",
       "      <td>12/12/2010</td>\n",
       "    </tr>\n",
       "    <tr>\n",
       "      <td>Milan</td>\n",
       "      <td>1350680</td>\n",
       "      <td>181.80</td>\n",
       "      <td>12/12/2010</td>\n",
       "    </tr>\n",
       "  </tbody>\n",
       "</table>\n",
       "</div>"
      ],
      "text/plain": [
       "           population     area        date\n",
       "London        8615246  1572.00  12/12/2010\n",
       "Berlin        3562166   891.85  12/12/2010\n",
       "Madrid        3165235   605.77  12/12/2010\n",
       "Rome          2874038  1285.00  12/12/2010\n",
       "Paris         2273305   105.40  12/12/2010\n",
       "Vienna        1805681   414.60  12/12/2010\n",
       "Bucharest     1803425   228.00  12/12/2010\n",
       "Hamburg       1760433   755.00  12/12/2010\n",
       "Budapest      1754000   525.20  12/12/2010\n",
       "Warsaw        1740119   517.00  12/12/2010\n",
       "Barcelona     1602386   101.90  12/12/2010\n",
       "Munich        1493900   310.40  12/12/2010\n",
       "Milan         1350680   181.80  12/12/2010"
      ]
     },
     "execution_count": 29,
     "metadata": {},
     "output_type": "execute_result"
    }
   ],
   "source": [
    "# Thêm thuộc tính date\n",
    "df['date'] = '12/12/2010'\n",
    "df"
   ]
  },
  {
   "cell_type": "code",
   "execution_count": 30,
   "metadata": {},
   "outputs": [
    {
     "data": {
      "text/html": [
       "<div>\n",
       "<style scoped>\n",
       "    .dataframe tbody tr th:only-of-type {\n",
       "        vertical-align: middle;\n",
       "    }\n",
       "\n",
       "    .dataframe tbody tr th {\n",
       "        vertical-align: top;\n",
       "    }\n",
       "\n",
       "    .dataframe thead th {\n",
       "        text-align: right;\n",
       "    }\n",
       "</style>\n",
       "<table border=\"1\" class=\"dataframe\">\n",
       "  <thead>\n",
       "    <tr style=\"text-align: right;\">\n",
       "      <th></th>\n",
       "      <th>population</th>\n",
       "      <th>area</th>\n",
       "    </tr>\n",
       "  </thead>\n",
       "  <tbody>\n",
       "    <tr>\n",
       "      <td>London</td>\n",
       "      <td>8615246</td>\n",
       "      <td>1572.00</td>\n",
       "    </tr>\n",
       "    <tr>\n",
       "      <td>Berlin</td>\n",
       "      <td>3562166</td>\n",
       "      <td>891.85</td>\n",
       "    </tr>\n",
       "    <tr>\n",
       "      <td>Madrid</td>\n",
       "      <td>3165235</td>\n",
       "      <td>605.77</td>\n",
       "    </tr>\n",
       "    <tr>\n",
       "      <td>Rome</td>\n",
       "      <td>2874038</td>\n",
       "      <td>1285.00</td>\n",
       "    </tr>\n",
       "    <tr>\n",
       "      <td>Paris</td>\n",
       "      <td>2273305</td>\n",
       "      <td>105.40</td>\n",
       "    </tr>\n",
       "    <tr>\n",
       "      <td>Vienna</td>\n",
       "      <td>1805681</td>\n",
       "      <td>414.60</td>\n",
       "    </tr>\n",
       "    <tr>\n",
       "      <td>Bucharest</td>\n",
       "      <td>1803425</td>\n",
       "      <td>228.00</td>\n",
       "    </tr>\n",
       "    <tr>\n",
       "      <td>Hamburg</td>\n",
       "      <td>1760433</td>\n",
       "      <td>755.00</td>\n",
       "    </tr>\n",
       "    <tr>\n",
       "      <td>Budapest</td>\n",
       "      <td>1754000</td>\n",
       "      <td>525.20</td>\n",
       "    </tr>\n",
       "    <tr>\n",
       "      <td>Warsaw</td>\n",
       "      <td>1740119</td>\n",
       "      <td>517.00</td>\n",
       "    </tr>\n",
       "    <tr>\n",
       "      <td>Barcelona</td>\n",
       "      <td>1602386</td>\n",
       "      <td>101.90</td>\n",
       "    </tr>\n",
       "    <tr>\n",
       "      <td>Munich</td>\n",
       "      <td>1493900</td>\n",
       "      <td>310.40</td>\n",
       "    </tr>\n",
       "    <tr>\n",
       "      <td>Milan</td>\n",
       "      <td>1350680</td>\n",
       "      <td>181.80</td>\n",
       "    </tr>\n",
       "  </tbody>\n",
       "</table>\n",
       "</div>"
      ],
      "text/plain": [
       "           population     area\n",
       "London        8615246  1572.00\n",
       "Berlin        3562166   891.85\n",
       "Madrid        3165235   605.77\n",
       "Rome          2874038  1285.00\n",
       "Paris         2273305   105.40\n",
       "Vienna        1805681   414.60\n",
       "Bucharest     1803425   228.00\n",
       "Hamburg       1760433   755.00\n",
       "Budapest      1754000   525.20\n",
       "Warsaw        1740119   517.00\n",
       "Barcelona     1602386   101.90\n",
       "Munich        1493900   310.40\n",
       "Milan         1350680   181.80"
      ]
     },
     "execution_count": 30,
     "metadata": {},
     "output_type": "execute_result"
    }
   ],
   "source": [
    "# Xóa thuộc tính date\n",
    "df.drop(['date'], axis = 1)"
   ]
  },
  {
   "cell_type": "markdown",
   "metadata": {},
   "source": [
    "**Truy xuất dữ liệu**\n",
    "\n",
    "- [i:]: lấy dữ liệu từ dòng i -> cuối\n",
    "- [:j]: lấy dữ liệu từ dòng đầu -> j\n",
    "- [i:, :j]:\n",
    "- loc: lấy theo index\n",
    "- iloc: lấy theo vị trí/thứ tự"
   ]
  },
  {
   "cell_type": "code",
   "execution_count": 31,
   "metadata": {},
   "outputs": [
    {
     "name": "stdout",
     "output_type": "stream",
     "text": [
      "London       1572.00\n",
      "Berlin        891.85\n",
      "Madrid        605.77\n",
      "Rome         1285.00\n",
      "Paris         105.40\n",
      "Vienna        414.60\n",
      "Bucharest     228.00\n",
      "Hamburg       755.00\n",
      "Budapest      525.20\n",
      "Warsaw        517.00\n",
      "Barcelona     101.90\n",
      "Munich        310.40\n",
      "Milan         181.80\n",
      "Name: area, dtype: float64\n",
      "London       1572.00\n",
      "Berlin        891.85\n",
      "Madrid        605.77\n",
      "Rome         1285.00\n",
      "Paris         105.40\n",
      "Vienna        414.60\n",
      "Bucharest     228.00\n",
      "Hamburg       755.00\n",
      "Budapest      525.20\n",
      "Warsaw        517.00\n",
      "Barcelona     101.90\n",
      "Munich        310.40\n",
      "Milan         181.80\n",
      "Name: area, dtype: float64\n",
      "              area  population\n",
      "London     1572.00     8615246\n",
      "Berlin      891.85     3562166\n",
      "Madrid      605.77     3165235\n",
      "Rome       1285.00     2874038\n",
      "Paris       105.40     2273305\n",
      "Vienna      414.60     1805681\n",
      "Bucharest   228.00     1803425\n",
      "Hamburg     755.00     1760433\n",
      "Budapest    525.20     1754000\n",
      "Warsaw      517.00     1740119\n",
      "Barcelona   101.90     1602386\n",
      "Munich      310.40     1493900\n",
      "Milan       181.80     1350680\n",
      "1572.0\n",
      "1572.0\n"
     ]
    }
   ],
   "source": [
    "# Tên cột/thuộc tính\n",
    "print(df[\"area\"])\n",
    "print(df.area)\n",
    "# Danh sách chứa nhiều cột\n",
    "print(df[[\"area\", \"population\"]])\n",
    "# tên cột và chỉ mục\n",
    "print(df[\"area\"][\"London\"])\n",
    "print(df.area[\"London\"])"
   ]
  },
  {
   "cell_type": "code",
   "execution_count": 32,
   "metadata": {},
   "outputs": [
    {
     "name": "stdout",
     "output_type": "stream",
     "text": [
      "population       8615246\n",
      "area                1572\n",
      "date          12/12/2010\n",
      "Name: London, dtype: object\n",
      "           population   area        date\n",
      "Vienna        1805681  414.6  12/12/2010\n",
      "Bucharest     1803425  228.0  12/12/2010\n",
      "Hamburg       1760433  755.0  12/12/2010\n",
      "Budapest      1754000  525.2  12/12/2010\n",
      "Warsaw        1740119  517.0  12/12/2010\n",
      "Barcelona     1602386  101.9  12/12/2010\n",
      "Munich        1493900  310.4  12/12/2010\n",
      "Milan         1350680  181.8  12/12/2010\n",
      "        population     area        date\n",
      "London     8615246  1572.00  12/12/2010\n",
      "Berlin     3562166   891.85  12/12/2010\n",
      "Madrid     3165235   605.77  12/12/2010\n",
      "        population     area        date\n",
      "Berlin     3562166   891.85  12/12/2010\n",
      "Madrid     3165235   605.77  12/12/2010\n",
      "Rome       2874038  1285.00  12/12/2010\n",
      "Paris      2273305   105.40  12/12/2010\n"
     ]
    }
   ],
   "source": [
    "# Tên cột/thuộc tính\n",
    "print(df.loc[\"London\"])\n",
    "# Lấy dữ liệu từ dòng 5 -> cuối\n",
    "print(df.iloc[5:])\n",
    "# Lấy dữ liệu dòng: đầu -> 3\n",
    "print(df.iloc[:3])\n",
    "# Lấy dữ liệu từ dòng 1 -> 4\n",
    "print(df.iloc[1:5])"
   ]
  },
  {
   "cell_type": "markdown",
   "metadata": {},
   "source": [
    "#### Các thao tác xử lý dữ liệu"
   ]
  },
  {
   "cell_type": "markdown",
   "metadata": {},
   "source": [
    "**Lấy thông tin từ dữ liệu**"
   ]
  },
  {
   "cell_type": "code",
   "execution_count": 33,
   "metadata": {},
   "outputs": [
    {
     "name": "stdout",
     "output_type": "stream",
     "text": [
      "13\n",
      "3\n"
     ]
    }
   ],
   "source": [
    "# Lấy số dòng, số cột của bảng dữ liệu\n",
    "rows , cols = df.shape\n",
    "print(rows)\n",
    "print(cols)"
   ]
  },
  {
   "cell_type": "code",
   "execution_count": 34,
   "metadata": {},
   "outputs": [
    {
     "name": "stdout",
     "output_type": "stream",
     "text": [
      "Index(['population', 'area', 'date'], dtype='object')\n",
      "['population' 'area' 'date']\n"
     ]
    }
   ],
   "source": [
    "print(df.columns)\n",
    "print(df.columns.values)"
   ]
  },
  {
   "cell_type": "code",
   "execution_count": 35,
   "metadata": {},
   "outputs": [
    {
     "name": "stdout",
     "output_type": "stream",
     "text": [
      "Index(['London', 'Berlin', 'Madrid', 'Rome', 'Paris', 'Vienna', 'Bucharest',\n",
      "       'Hamburg', 'Budapest', 'Warsaw', 'Barcelona', 'Munich', 'Milan'],\n",
      "      dtype='object')\n",
      "['London' 'Berlin' 'Madrid' 'Rome' 'Paris' 'Vienna' 'Bucharest' 'Hamburg'\n",
      " 'Budapest' 'Warsaw' 'Barcelona' 'Munich' 'Milan']\n"
     ]
    }
   ],
   "source": [
    "print(df.index)\n",
    "print(df.index.values)"
   ]
  },
  {
   "cell_type": "code",
   "execution_count": 36,
   "metadata": {},
   "outputs": [
    {
     "data": {
      "text/plain": [
       "population      int64\n",
       "area          float64\n",
       "date           object\n",
       "dtype: object"
      ]
     },
     "execution_count": 36,
     "metadata": {},
     "output_type": "execute_result"
    }
   ],
   "source": [
    "df.dtypes"
   ]
  },
  {
   "cell_type": "code",
   "execution_count": 37,
   "metadata": {},
   "outputs": [
    {
     "name": "stdout",
     "output_type": "stream",
     "text": [
      "<class 'pandas.core.frame.DataFrame'>\n",
      "Index: 13 entries, London to Milan\n",
      "Data columns (total 3 columns):\n",
      "population    13 non-null int64\n",
      "area          13 non-null float64\n",
      "date          13 non-null object\n",
      "dtypes: float64(1), int64(1), object(1)\n",
      "memory usage: 1.0+ KB\n"
     ]
    }
   ],
   "source": [
    "# Lấy thông tin chung của dữ liệu\n",
    "df.info()"
   ]
  },
  {
   "cell_type": "code",
   "execution_count": 38,
   "metadata": {},
   "outputs": [
    {
     "data": {
      "text/html": [
       "<div>\n",
       "<style scoped>\n",
       "    .dataframe tbody tr th:only-of-type {\n",
       "        vertical-align: middle;\n",
       "    }\n",
       "\n",
       "    .dataframe tbody tr th {\n",
       "        vertical-align: top;\n",
       "    }\n",
       "\n",
       "    .dataframe thead th {\n",
       "        text-align: right;\n",
       "    }\n",
       "</style>\n",
       "<table border=\"1\" class=\"dataframe\">\n",
       "  <thead>\n",
       "    <tr style=\"text-align: right;\">\n",
       "      <th></th>\n",
       "      <th>population</th>\n",
       "      <th>area</th>\n",
       "      <th>date</th>\n",
       "    </tr>\n",
       "  </thead>\n",
       "  <tbody>\n",
       "    <tr>\n",
       "      <td>London</td>\n",
       "      <td>13.0</td>\n",
       "      <td>13.0</td>\n",
       "      <td>7.0</td>\n",
       "    </tr>\n",
       "    <tr>\n",
       "      <td>Berlin</td>\n",
       "      <td>12.0</td>\n",
       "      <td>11.0</td>\n",
       "      <td>7.0</td>\n",
       "    </tr>\n",
       "    <tr>\n",
       "      <td>Madrid</td>\n",
       "      <td>11.0</td>\n",
       "      <td>9.0</td>\n",
       "      <td>7.0</td>\n",
       "    </tr>\n",
       "    <tr>\n",
       "      <td>Rome</td>\n",
       "      <td>10.0</td>\n",
       "      <td>12.0</td>\n",
       "      <td>7.0</td>\n",
       "    </tr>\n",
       "    <tr>\n",
       "      <td>Paris</td>\n",
       "      <td>9.0</td>\n",
       "      <td>2.0</td>\n",
       "      <td>7.0</td>\n",
       "    </tr>\n",
       "    <tr>\n",
       "      <td>Vienna</td>\n",
       "      <td>8.0</td>\n",
       "      <td>6.0</td>\n",
       "      <td>7.0</td>\n",
       "    </tr>\n",
       "    <tr>\n",
       "      <td>Bucharest</td>\n",
       "      <td>7.0</td>\n",
       "      <td>4.0</td>\n",
       "      <td>7.0</td>\n",
       "    </tr>\n",
       "    <tr>\n",
       "      <td>Hamburg</td>\n",
       "      <td>6.0</td>\n",
       "      <td>10.0</td>\n",
       "      <td>7.0</td>\n",
       "    </tr>\n",
       "    <tr>\n",
       "      <td>Budapest</td>\n",
       "      <td>5.0</td>\n",
       "      <td>8.0</td>\n",
       "      <td>7.0</td>\n",
       "    </tr>\n",
       "    <tr>\n",
       "      <td>Warsaw</td>\n",
       "      <td>4.0</td>\n",
       "      <td>7.0</td>\n",
       "      <td>7.0</td>\n",
       "    </tr>\n",
       "    <tr>\n",
       "      <td>Barcelona</td>\n",
       "      <td>3.0</td>\n",
       "      <td>1.0</td>\n",
       "      <td>7.0</td>\n",
       "    </tr>\n",
       "    <tr>\n",
       "      <td>Munich</td>\n",
       "      <td>2.0</td>\n",
       "      <td>5.0</td>\n",
       "      <td>7.0</td>\n",
       "    </tr>\n",
       "    <tr>\n",
       "      <td>Milan</td>\n",
       "      <td>1.0</td>\n",
       "      <td>3.0</td>\n",
       "      <td>7.0</td>\n",
       "    </tr>\n",
       "  </tbody>\n",
       "</table>\n",
       "</div>"
      ],
      "text/plain": [
       "           population  area  date\n",
       "London           13.0  13.0   7.0\n",
       "Berlin           12.0  11.0   7.0\n",
       "Madrid           11.0   9.0   7.0\n",
       "Rome             10.0  12.0   7.0\n",
       "Paris             9.0   2.0   7.0\n",
       "Vienna            8.0   6.0   7.0\n",
       "Bucharest         7.0   4.0   7.0\n",
       "Hamburg           6.0  10.0   7.0\n",
       "Budapest          5.0   8.0   7.0\n",
       "Warsaw            4.0   7.0   7.0\n",
       "Barcelona         3.0   1.0   7.0\n",
       "Munich            2.0   5.0   7.0\n",
       "Milan             1.0   3.0   7.0"
      ]
     },
     "execution_count": 38,
     "metadata": {},
     "output_type": "execute_result"
    }
   ],
   "source": [
    "# lấy thông tin chung của dữ liệu\n",
    "df.rank()"
   ]
  },
  {
   "cell_type": "markdown",
   "metadata": {},
   "source": [
    "**Lọc dữ liệu**"
   ]
  },
  {
   "cell_type": "code",
   "execution_count": 39,
   "metadata": {},
   "outputs": [
    {
     "data": {
      "text/plain": [
       "London        True\n",
       "Berlin        True\n",
       "Madrid        True\n",
       "Rome          True\n",
       "Paris        False\n",
       "Vienna       False\n",
       "Bucharest    False\n",
       "Hamburg       True\n",
       "Budapest      True\n",
       "Warsaw        True\n",
       "Barcelona    False\n",
       "Munich       False\n",
       "Milan        False\n",
       "Name: area, dtype: bool"
      ]
     },
     "execution_count": 39,
     "metadata": {},
     "output_type": "execute_result"
    }
   ],
   "source": [
    "df.area > 500"
   ]
  },
  {
   "cell_type": "code",
   "execution_count": 40,
   "metadata": {},
   "outputs": [
    {
     "data": {
      "text/html": [
       "<div>\n",
       "<style scoped>\n",
       "    .dataframe tbody tr th:only-of-type {\n",
       "        vertical-align: middle;\n",
       "    }\n",
       "\n",
       "    .dataframe tbody tr th {\n",
       "        vertical-align: top;\n",
       "    }\n",
       "\n",
       "    .dataframe thead th {\n",
       "        text-align: right;\n",
       "    }\n",
       "</style>\n",
       "<table border=\"1\" class=\"dataframe\">\n",
       "  <thead>\n",
       "    <tr style=\"text-align: right;\">\n",
       "      <th></th>\n",
       "      <th>population</th>\n",
       "      <th>area</th>\n",
       "      <th>date</th>\n",
       "    </tr>\n",
       "  </thead>\n",
       "  <tbody>\n",
       "    <tr>\n",
       "      <td>London</td>\n",
       "      <td>8615246</td>\n",
       "      <td>1572.00</td>\n",
       "      <td>12/12/2010</td>\n",
       "    </tr>\n",
       "    <tr>\n",
       "      <td>Berlin</td>\n",
       "      <td>3562166</td>\n",
       "      <td>891.85</td>\n",
       "      <td>12/12/2010</td>\n",
       "    </tr>\n",
       "    <tr>\n",
       "      <td>Madrid</td>\n",
       "      <td>3165235</td>\n",
       "      <td>605.77</td>\n",
       "      <td>12/12/2010</td>\n",
       "    </tr>\n",
       "  </tbody>\n",
       "</table>\n",
       "</div>"
      ],
      "text/plain": [
       "        population     area        date\n",
       "London     8615246  1572.00  12/12/2010\n",
       "Berlin     3562166   891.85  12/12/2010\n",
       "Madrid     3165235   605.77  12/12/2010"
      ]
     },
     "execution_count": 40,
     "metadata": {},
     "output_type": "execute_result"
    }
   ],
   "source": [
    "# Lọc dữ liệu: dân số > 3000000 và diện tích > 500\n",
    "df[(df.population > 3000000) & (df.area > 500)]"
   ]
  },
  {
   "cell_type": "code",
   "execution_count": 41,
   "metadata": {},
   "outputs": [
    {
     "data": {
      "text/html": [
       "<div>\n",
       "<style scoped>\n",
       "    .dataframe tbody tr th:only-of-type {\n",
       "        vertical-align: middle;\n",
       "    }\n",
       "\n",
       "    .dataframe tbody tr th {\n",
       "        vertical-align: top;\n",
       "    }\n",
       "\n",
       "    .dataframe thead th {\n",
       "        text-align: right;\n",
       "    }\n",
       "</style>\n",
       "<table border=\"1\" class=\"dataframe\">\n",
       "  <thead>\n",
       "    <tr style=\"text-align: right;\">\n",
       "      <th></th>\n",
       "      <th>population</th>\n",
       "      <th>area</th>\n",
       "      <th>date</th>\n",
       "    </tr>\n",
       "  </thead>\n",
       "  <tbody>\n",
       "    <tr>\n",
       "      <td>Barcelona</td>\n",
       "      <td>1602386</td>\n",
       "      <td>101.90</td>\n",
       "      <td>12/12/2010</td>\n",
       "    </tr>\n",
       "    <tr>\n",
       "      <td>Paris</td>\n",
       "      <td>2273305</td>\n",
       "      <td>105.40</td>\n",
       "      <td>12/12/2010</td>\n",
       "    </tr>\n",
       "    <tr>\n",
       "      <td>Milan</td>\n",
       "      <td>1350680</td>\n",
       "      <td>181.80</td>\n",
       "      <td>12/12/2010</td>\n",
       "    </tr>\n",
       "    <tr>\n",
       "      <td>Bucharest</td>\n",
       "      <td>1803425</td>\n",
       "      <td>228.00</td>\n",
       "      <td>12/12/2010</td>\n",
       "    </tr>\n",
       "    <tr>\n",
       "      <td>Munich</td>\n",
       "      <td>1493900</td>\n",
       "      <td>310.40</td>\n",
       "      <td>12/12/2010</td>\n",
       "    </tr>\n",
       "    <tr>\n",
       "      <td>Vienna</td>\n",
       "      <td>1805681</td>\n",
       "      <td>414.60</td>\n",
       "      <td>12/12/2010</td>\n",
       "    </tr>\n",
       "    <tr>\n",
       "      <td>Warsaw</td>\n",
       "      <td>1740119</td>\n",
       "      <td>517.00</td>\n",
       "      <td>12/12/2010</td>\n",
       "    </tr>\n",
       "    <tr>\n",
       "      <td>Budapest</td>\n",
       "      <td>1754000</td>\n",
       "      <td>525.20</td>\n",
       "      <td>12/12/2010</td>\n",
       "    </tr>\n",
       "    <tr>\n",
       "      <td>Madrid</td>\n",
       "      <td>3165235</td>\n",
       "      <td>605.77</td>\n",
       "      <td>12/12/2010</td>\n",
       "    </tr>\n",
       "    <tr>\n",
       "      <td>Hamburg</td>\n",
       "      <td>1760433</td>\n",
       "      <td>755.00</td>\n",
       "      <td>12/12/2010</td>\n",
       "    </tr>\n",
       "    <tr>\n",
       "      <td>Berlin</td>\n",
       "      <td>3562166</td>\n",
       "      <td>891.85</td>\n",
       "      <td>12/12/2010</td>\n",
       "    </tr>\n",
       "    <tr>\n",
       "      <td>Rome</td>\n",
       "      <td>2874038</td>\n",
       "      <td>1285.00</td>\n",
       "      <td>12/12/2010</td>\n",
       "    </tr>\n",
       "    <tr>\n",
       "      <td>London</td>\n",
       "      <td>8615246</td>\n",
       "      <td>1572.00</td>\n",
       "      <td>12/12/2010</td>\n",
       "    </tr>\n",
       "  </tbody>\n",
       "</table>\n",
       "</div>"
      ],
      "text/plain": [
       "           population     area        date\n",
       "Barcelona     1602386   101.90  12/12/2010\n",
       "Paris         2273305   105.40  12/12/2010\n",
       "Milan         1350680   181.80  12/12/2010\n",
       "Bucharest     1803425   228.00  12/12/2010\n",
       "Munich        1493900   310.40  12/12/2010\n",
       "Vienna        1805681   414.60  12/12/2010\n",
       "Warsaw        1740119   517.00  12/12/2010\n",
       "Budapest      1754000   525.20  12/12/2010\n",
       "Madrid        3165235   605.77  12/12/2010\n",
       "Hamburg       1760433   755.00  12/12/2010\n",
       "Berlin        3562166   891.85  12/12/2010\n",
       "Rome          2874038  1285.00  12/12/2010\n",
       "London        8615246  1572.00  12/12/2010"
      ]
     },
     "execution_count": 41,
     "metadata": {},
     "output_type": "execute_result"
    }
   ],
   "source": [
    "df.sort_values(by = 'area')"
   ]
  },
  {
   "cell_type": "markdown",
   "metadata": {},
   "source": [
    "**Thống kê cơ bản**\n",
    "\n",
    "- sum, max, min\n",
    "- mean, std\n",
    "- describle"
   ]
  },
  {
   "cell_type": "code",
   "execution_count": 42,
   "metadata": {},
   "outputs": [
    {
     "data": {
      "text/plain": [
       "1572.0"
      ]
     },
     "execution_count": 42,
     "metadata": {},
     "output_type": "execute_result"
    }
   ],
   "source": [
    "#df[\"area\"].max()\n",
    "df.area.max()"
   ]
  },
  {
   "cell_type": "code",
   "execution_count": 43,
   "metadata": {},
   "outputs": [
    {
     "data": {
      "text/plain": [
       "576.4553846153846"
      ]
     },
     "execution_count": 43,
     "metadata": {},
     "output_type": "execute_result"
    }
   ],
   "source": [
    "df.area.mean()"
   ]
  },
  {
   "cell_type": "code",
   "execution_count": 44,
   "metadata": {},
   "outputs": [
    {
     "data": {
      "text/plain": [
       "101.9"
      ]
     },
     "execution_count": 44,
     "metadata": {},
     "output_type": "execute_result"
    }
   ],
   "source": [
    "df.area.min()"
   ]
  },
  {
   "cell_type": "code",
   "execution_count": 45,
   "metadata": {},
   "outputs": [
    {
     "data": {
      "text/html": [
       "<div>\n",
       "<style scoped>\n",
       "    .dataframe tbody tr th:only-of-type {\n",
       "        vertical-align: middle;\n",
       "    }\n",
       "\n",
       "    .dataframe tbody tr th {\n",
       "        vertical-align: top;\n",
       "    }\n",
       "\n",
       "    .dataframe thead th {\n",
       "        text-align: right;\n",
       "    }\n",
       "</style>\n",
       "<table border=\"1\" class=\"dataframe\">\n",
       "  <thead>\n",
       "    <tr style=\"text-align: right;\">\n",
       "      <th></th>\n",
       "      <th>population</th>\n",
       "      <th>area</th>\n",
       "    </tr>\n",
       "  </thead>\n",
       "  <tbody>\n",
       "    <tr>\n",
       "      <td>count</td>\n",
       "      <td>1.300000e+01</td>\n",
       "      <td>13.000000</td>\n",
       "    </tr>\n",
       "    <tr>\n",
       "      <td>mean</td>\n",
       "      <td>2.600047e+06</td>\n",
       "      <td>576.455385</td>\n",
       "    </tr>\n",
       "    <tr>\n",
       "      <td>std</td>\n",
       "      <td>1.932512e+06</td>\n",
       "      <td>452.103468</td>\n",
       "    </tr>\n",
       "    <tr>\n",
       "      <td>min</td>\n",
       "      <td>1.350680e+06</td>\n",
       "      <td>101.900000</td>\n",
       "    </tr>\n",
       "    <tr>\n",
       "      <td>25%</td>\n",
       "      <td>1.740119e+06</td>\n",
       "      <td>228.000000</td>\n",
       "    </tr>\n",
       "    <tr>\n",
       "      <td>50%</td>\n",
       "      <td>1.803425e+06</td>\n",
       "      <td>517.000000</td>\n",
       "    </tr>\n",
       "    <tr>\n",
       "      <td>75%</td>\n",
       "      <td>2.874038e+06</td>\n",
       "      <td>755.000000</td>\n",
       "    </tr>\n",
       "    <tr>\n",
       "      <td>max</td>\n",
       "      <td>8.615246e+06</td>\n",
       "      <td>1572.000000</td>\n",
       "    </tr>\n",
       "  </tbody>\n",
       "</table>\n",
       "</div>"
      ],
      "text/plain": [
       "         population         area\n",
       "count  1.300000e+01    13.000000\n",
       "mean   2.600047e+06   576.455385\n",
       "std    1.932512e+06   452.103468\n",
       "min    1.350680e+06   101.900000\n",
       "25%    1.740119e+06   228.000000\n",
       "50%    1.803425e+06   517.000000\n",
       "75%    2.874038e+06   755.000000\n",
       "max    8.615246e+06  1572.000000"
      ]
     },
     "execution_count": 45,
     "metadata": {},
     "output_type": "execute_result"
    }
   ],
   "source": [
    "df.describe()"
   ]
  },
  {
   "cell_type": "markdown",
   "metadata": {},
   "source": [
    "**Phát hiện dữ liệu thiếu, lỗi**\n",
    "\n",
    "- notnull\n",
    "- isnull\n",
    "- dropna\n",
    "- fillna"
   ]
  },
  {
   "cell_type": "code",
   "execution_count": 46,
   "metadata": {},
   "outputs": [
    {
     "name": "stdout",
     "output_type": "stream",
     "text": [
      "     A    B  C\n",
      "0  1.0  4.0  7\n",
      "1  2.0  NaN  8\n",
      "2  NaN  NaN  9\n"
     ]
    }
   ],
   "source": [
    "import numpy as np\n",
    "import pandas as pd\n",
    "\n",
    "test_df = pd.DataFrame({'A':[1, 2, np.nan],\n",
    "                       'B':[4, np.nan, np.nan],\n",
    "                       'C':[7, 8, 9]})\n",
    "\n",
    "print(test_df)"
   ]
  },
  {
   "cell_type": "code",
   "execution_count": 47,
   "metadata": {},
   "outputs": [
    {
     "data": {
      "text/html": [
       "<div>\n",
       "<style scoped>\n",
       "    .dataframe tbody tr th:only-of-type {\n",
       "        vertical-align: middle;\n",
       "    }\n",
       "\n",
       "    .dataframe tbody tr th {\n",
       "        vertical-align: top;\n",
       "    }\n",
       "\n",
       "    .dataframe thead th {\n",
       "        text-align: right;\n",
       "    }\n",
       "</style>\n",
       "<table border=\"1\" class=\"dataframe\">\n",
       "  <thead>\n",
       "    <tr style=\"text-align: right;\">\n",
       "      <th></th>\n",
       "      <th>A</th>\n",
       "      <th>B</th>\n",
       "      <th>C</th>\n",
       "    </tr>\n",
       "  </thead>\n",
       "  <tbody>\n",
       "    <tr>\n",
       "      <td>0</td>\n",
       "      <td>False</td>\n",
       "      <td>False</td>\n",
       "      <td>False</td>\n",
       "    </tr>\n",
       "    <tr>\n",
       "      <td>1</td>\n",
       "      <td>False</td>\n",
       "      <td>True</td>\n",
       "      <td>False</td>\n",
       "    </tr>\n",
       "    <tr>\n",
       "      <td>2</td>\n",
       "      <td>True</td>\n",
       "      <td>True</td>\n",
       "      <td>False</td>\n",
       "    </tr>\n",
       "  </tbody>\n",
       "</table>\n",
       "</div>"
      ],
      "text/plain": [
       "       A      B      C\n",
       "0  False  False  False\n",
       "1  False   True  False\n",
       "2   True   True  False"
      ]
     },
     "execution_count": 47,
     "metadata": {},
     "output_type": "execute_result"
    }
   ],
   "source": [
    "# Kiểm tra tất cả dữ liệu có giá trị NaN hay ko?\n",
    "test_df.isnull()"
   ]
  },
  {
   "cell_type": "code",
   "execution_count": 48,
   "metadata": {},
   "outputs": [
    {
     "data": {
      "text/html": [
       "<div>\n",
       "<style scoped>\n",
       "    .dataframe tbody tr th:only-of-type {\n",
       "        vertical-align: middle;\n",
       "    }\n",
       "\n",
       "    .dataframe tbody tr th {\n",
       "        vertical-align: top;\n",
       "    }\n",
       "\n",
       "    .dataframe thead th {\n",
       "        text-align: right;\n",
       "    }\n",
       "</style>\n",
       "<table border=\"1\" class=\"dataframe\">\n",
       "  <thead>\n",
       "    <tr style=\"text-align: right;\">\n",
       "      <th></th>\n",
       "      <th>A</th>\n",
       "      <th>B</th>\n",
       "      <th>C</th>\n",
       "    </tr>\n",
       "  </thead>\n",
       "  <tbody>\n",
       "    <tr>\n",
       "      <td>0</td>\n",
       "      <td>1.0</td>\n",
       "      <td>4.0</td>\n",
       "      <td>7</td>\n",
       "    </tr>\n",
       "  </tbody>\n",
       "</table>\n",
       "</div>"
      ],
      "text/plain": [
       "     A    B  C\n",
       "0  1.0  4.0  7"
      ]
     },
     "execution_count": 48,
     "metadata": {},
     "output_type": "execute_result"
    }
   ],
   "source": [
    "# Xóa tất cả dòng có giá trị NaN\n",
    "test2df = test_df.dropna()\n",
    "test2df"
   ]
  },
  {
   "cell_type": "code",
   "execution_count": 49,
   "metadata": {},
   "outputs": [
    {
     "data": {
      "text/html": [
       "<div>\n",
       "<style scoped>\n",
       "    .dataframe tbody tr th:only-of-type {\n",
       "        vertical-align: middle;\n",
       "    }\n",
       "\n",
       "    .dataframe tbody tr th {\n",
       "        vertical-align: top;\n",
       "    }\n",
       "\n",
       "    .dataframe thead th {\n",
       "        text-align: right;\n",
       "    }\n",
       "</style>\n",
       "<table border=\"1\" class=\"dataframe\">\n",
       "  <thead>\n",
       "    <tr style=\"text-align: right;\">\n",
       "      <th></th>\n",
       "      <th>A</th>\n",
       "      <th>B</th>\n",
       "      <th>C</th>\n",
       "    </tr>\n",
       "  </thead>\n",
       "  <tbody>\n",
       "    <tr>\n",
       "      <td>0</td>\n",
       "      <td>1.0</td>\n",
       "      <td>4.0</td>\n",
       "      <td>7</td>\n",
       "    </tr>\n",
       "    <tr>\n",
       "      <td>1</td>\n",
       "      <td>2.0</td>\n",
       "      <td>1.0</td>\n",
       "      <td>8</td>\n",
       "    </tr>\n",
       "    <tr>\n",
       "      <td>2</td>\n",
       "      <td>1.0</td>\n",
       "      <td>1.0</td>\n",
       "      <td>9</td>\n",
       "    </tr>\n",
       "  </tbody>\n",
       "</table>\n",
       "</div>"
      ],
      "text/plain": [
       "     A    B  C\n",
       "0  1.0  4.0  7\n",
       "1  2.0  1.0  8\n",
       "2  1.0  1.0  9"
      ]
     },
     "execution_count": 49,
     "metadata": {},
     "output_type": "execute_result"
    }
   ],
   "source": [
    "# Điền tất cả giá trị NaN bằng giá trị 0\n",
    "test2df = test_df.fillna(1)\n",
    "test2df"
   ]
  },
  {
   "cell_type": "markdown",
   "metadata": {},
   "source": [
    "**Đọc và ghi dữ liệu với DataFrame**\n",
    "\n",
    "- read_csv(filename)\n",
    "- to_csv(filename)"
   ]
  },
  {
   "cell_type": "code",
   "execution_count": 50,
   "metadata": {},
   "outputs": [],
   "source": [
    "df.to_csv(\"population.csv\")"
   ]
  },
  {
   "cell_type": "code",
   "execution_count": 51,
   "metadata": {},
   "outputs": [
    {
     "data": {
      "text/html": [
       "<div>\n",
       "<style scoped>\n",
       "    .dataframe tbody tr th:only-of-type {\n",
       "        vertical-align: middle;\n",
       "    }\n",
       "\n",
       "    .dataframe tbody tr th {\n",
       "        vertical-align: top;\n",
       "    }\n",
       "\n",
       "    .dataframe thead th {\n",
       "        text-align: right;\n",
       "    }\n",
       "</style>\n",
       "<table border=\"1\" class=\"dataframe\">\n",
       "  <thead>\n",
       "    <tr style=\"text-align: right;\">\n",
       "      <th></th>\n",
       "      <th>Unnamed: 0</th>\n",
       "      <th>population</th>\n",
       "      <th>area</th>\n",
       "      <th>date</th>\n",
       "    </tr>\n",
       "  </thead>\n",
       "  <tbody>\n",
       "    <tr>\n",
       "      <td>0</td>\n",
       "      <td>London</td>\n",
       "      <td>8615246</td>\n",
       "      <td>1572.00</td>\n",
       "      <td>12/12/2010</td>\n",
       "    </tr>\n",
       "    <tr>\n",
       "      <td>1</td>\n",
       "      <td>Berlin</td>\n",
       "      <td>3562166</td>\n",
       "      <td>891.85</td>\n",
       "      <td>12/12/2010</td>\n",
       "    </tr>\n",
       "    <tr>\n",
       "      <td>2</td>\n",
       "      <td>Madrid</td>\n",
       "      <td>3165235</td>\n",
       "      <td>605.77</td>\n",
       "      <td>12/12/2010</td>\n",
       "    </tr>\n",
       "    <tr>\n",
       "      <td>3</td>\n",
       "      <td>Rome</td>\n",
       "      <td>2874038</td>\n",
       "      <td>1285.00</td>\n",
       "      <td>12/12/2010</td>\n",
       "    </tr>\n",
       "    <tr>\n",
       "      <td>4</td>\n",
       "      <td>Paris</td>\n",
       "      <td>2273305</td>\n",
       "      <td>105.40</td>\n",
       "      <td>12/12/2010</td>\n",
       "    </tr>\n",
       "    <tr>\n",
       "      <td>5</td>\n",
       "      <td>Vienna</td>\n",
       "      <td>1805681</td>\n",
       "      <td>414.60</td>\n",
       "      <td>12/12/2010</td>\n",
       "    </tr>\n",
       "    <tr>\n",
       "      <td>6</td>\n",
       "      <td>Bucharest</td>\n",
       "      <td>1803425</td>\n",
       "      <td>228.00</td>\n",
       "      <td>12/12/2010</td>\n",
       "    </tr>\n",
       "    <tr>\n",
       "      <td>7</td>\n",
       "      <td>Hamburg</td>\n",
       "      <td>1760433</td>\n",
       "      <td>755.00</td>\n",
       "      <td>12/12/2010</td>\n",
       "    </tr>\n",
       "    <tr>\n",
       "      <td>8</td>\n",
       "      <td>Budapest</td>\n",
       "      <td>1754000</td>\n",
       "      <td>525.20</td>\n",
       "      <td>12/12/2010</td>\n",
       "    </tr>\n",
       "    <tr>\n",
       "      <td>9</td>\n",
       "      <td>Warsaw</td>\n",
       "      <td>1740119</td>\n",
       "      <td>517.00</td>\n",
       "      <td>12/12/2010</td>\n",
       "    </tr>\n",
       "    <tr>\n",
       "      <td>10</td>\n",
       "      <td>Barcelona</td>\n",
       "      <td>1602386</td>\n",
       "      <td>101.90</td>\n",
       "      <td>12/12/2010</td>\n",
       "    </tr>\n",
       "    <tr>\n",
       "      <td>11</td>\n",
       "      <td>Munich</td>\n",
       "      <td>1493900</td>\n",
       "      <td>310.40</td>\n",
       "      <td>12/12/2010</td>\n",
       "    </tr>\n",
       "    <tr>\n",
       "      <td>12</td>\n",
       "      <td>Milan</td>\n",
       "      <td>1350680</td>\n",
       "      <td>181.80</td>\n",
       "      <td>12/12/2010</td>\n",
       "    </tr>\n",
       "  </tbody>\n",
       "</table>\n",
       "</div>"
      ],
      "text/plain": [
       "   Unnamed: 0  population     area        date\n",
       "0      London     8615246  1572.00  12/12/2010\n",
       "1      Berlin     3562166   891.85  12/12/2010\n",
       "2      Madrid     3165235   605.77  12/12/2010\n",
       "3        Rome     2874038  1285.00  12/12/2010\n",
       "4       Paris     2273305   105.40  12/12/2010\n",
       "5      Vienna     1805681   414.60  12/12/2010\n",
       "6   Bucharest     1803425   228.00  12/12/2010\n",
       "7     Hamburg     1760433   755.00  12/12/2010\n",
       "8    Budapest     1754000   525.20  12/12/2010\n",
       "9      Warsaw     1740119   517.00  12/12/2010\n",
       "10  Barcelona     1602386   101.90  12/12/2010\n",
       "11     Munich     1493900   310.40  12/12/2010\n",
       "12      Milan     1350680   181.80  12/12/2010"
      ]
     },
     "execution_count": 51,
     "metadata": {},
     "output_type": "execute_result"
    }
   ],
   "source": [
    "df = pd.read_csv(\"population.csv\")\n",
    "df"
   ]
  },
  {
   "cell_type": "markdown",
   "metadata": {},
   "source": [
    "## Mathplotlib\n",
    "\n",
    "### Giới thiệu\n",
    "\n",
    "- Là thư viện hỗ trợ vẽ các biểu đồ trong Python.\n",
    "- Xử lý tốt đối với các dữ liệu Numpy."
   ]
  },
  {
   "cell_type": "markdown",
   "metadata": {},
   "source": [
    "### Các thao tác vẽ biểu đồ"
   ]
  },
  {
   "cell_type": "code",
   "execution_count": 52,
   "metadata": {},
   "outputs": [
    {
     "data": {
      "text/plain": [
       "<Figure size 640x480 with 1 Axes>"
      ]
     },
     "metadata": {},
     "output_type": "display_data"
    }
   ],
   "source": [
    "import numpy as np\n",
    "import matplotlib.pyplot as plt \n",
    "\n",
    "x = np. linspace(0, 10, 100)\n",
    "y = np.power(x, 2)\n",
    "\n",
    "plt.plot(x, y)\n",
    "plt.show() "
   ]
  },
  {
   "cell_type": "code",
   "execution_count": 53,
   "metadata": {},
   "outputs": [
    {
     "data": {
      "text/plain": [
       "array([ 0.36754579, -1.05316483, -1.98438689, -0.13839297,  0.18951805,\n",
       "        0.63258289,  0.67533335, -1.24976253,  1.26877754,  0.85964967,\n",
       "        1.06223752,  1.47064716,  1.21225302,  0.81237999,  0.29013962,\n",
       "        0.02773694, -0.52490132,  0.3119466 , -0.42014603,  1.56568571,\n",
       "       -0.62478887, -0.96851052,  0.85054612,  0.42983737,  0.98321579,\n",
       "        1.226408  ,  1.0509553 ,  1.21690426, -0.40558336,  0.36249338,\n",
       "       -2.01036827, -0.4748965 ,  2.39837275, -0.23808983,  0.79841962,\n",
       "        1.76107216,  1.96520448,  0.09410072, -0.74136547,  0.09824009,\n",
       "        0.06004801,  1.18483605,  0.03538121, -0.15405551,  0.51617604,\n",
       "       -0.46350329,  0.44080668,  0.5099341 ,  0.31736021,  0.65877887,\n",
       "        1.22300641,  0.86077776,  0.28849604, -0.68074595,  0.03898134,\n",
       "        0.19627946,  0.37384858,  0.58946737,  1.4912928 , -1.96469309,\n",
       "       -1.32780659, -0.64501574,  0.03398725, -0.20329079,  0.03731027,\n",
       "       -0.69877598, -0.9318393 , -1.56698594,  0.88954256,  1.99444792,\n",
       "        0.07063144, -0.74662155, -0.9737943 , -0.08795936,  1.03736463,\n",
       "        2.61272568,  1.1046709 ,  0.24859964,  0.92792368, -0.8304288 ,\n",
       "       -0.22542915, -1.23554661,  0.34728818,  0.76467095, -0.73545607,\n",
       "       -0.88618369,  0.91495701, -1.60395634,  1.26939894, -0.28170506,\n",
       "        0.25228128, -0.07064373, -0.92471189,  1.24345795, -0.59627677,\n",
       "       -0.06976916,  0.49398672, -0.3166749 , -2.61042452,  0.6867895 ])"
      ]
     },
     "execution_count": 53,
     "metadata": {},
     "output_type": "execute_result"
    }
   ],
   "source": [
    "data = np.random.normal(size = 100)\n",
    "data"
   ]
  },
  {
   "cell_type": "code",
   "execution_count": 54,
   "metadata": {},
   "outputs": [
    {
     "data": {
      "image/png": "[encoded data removed]",
      "text/plain": [
       "<Figure size 432x288 with 2 Axes>"
      ]
     },
     "metadata": {
      "needs_background": "light"
     },
     "output_type": "display_data"
    }
   ],
   "source": [
    "fig, ax = plt.subplots(1, 2)\n",
    "ax[0].hist(data, bins = 10)\n",
    "ax[1].hist(data, bins = 40)\n",
    "\n",
    "plt.show()"
   ]
  },
  {
   "cell_type": "markdown",
   "metadata": {},
   "source": [
    "### Bài tập"
   ]
  }
 ],
 "metadata": {
  "kernelspec": {
   "display_name": "Python 3",
   "language": "python",
   "name": "python3"
  },
  "language_info": {
   "codemirror_mode": {
    "name": "ipython",
    "version": 3
   },
   "file_extension": ".py",
   "mimetype": "text/x-python",
   "name": "python",
   "nbconvert_exporter": "python",
   "pygments_lexer": "ipython3",
   "version": "3.7.4"
  }
 },
 "nbformat": 4,
 "nbformat_minor": 4
}
