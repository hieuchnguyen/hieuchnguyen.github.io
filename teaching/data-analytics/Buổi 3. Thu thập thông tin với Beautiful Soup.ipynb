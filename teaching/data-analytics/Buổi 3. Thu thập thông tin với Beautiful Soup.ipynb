{
 "cells": [
  {
   "cell_type": "markdown",
   "metadata": {},
   "source": [
    "# Thông tin chung\n",
    "\n",
    "**Mục tiêu buổi học**\n",
    "\n",
    "- Giới thiệu thư viện Beautiful Soup.\n",
    "- Hướng dẫn cài đặt và sử dụng thư viện Beautiful Soup để thu thập thông tin Web.\n",
    "\n",
    "**Kiến thức và kỹ năng đạt được**\n",
    "\n",
    "- Nắm vững và sử dụng được các đối tượng trong thư viện Beautiful Soup.\n",
    "- Áp dụng cài đặt được các bài tập thực hành.\n",
    "\n",
    "**Công cụ thực hành**\n",
    "\n",
    "- Ngôn ngữ lập trình: Python\n",
    "- Công cụ thực hành: Anaconda, colab\n",
    "\n",
    "**Thời gian thực hành**: 3 tiết"
   ]
  },
  {
   "cell_type": "markdown",
   "metadata": {},
   "source": [
    "# Nội dung lý thuyết\n",
    "\n",
    "**Beautiful Soup**\n",
    "\n",
    "- Là bộ thư viện thu thập dữ liệu từ các trang HTML, XML.\n",
    "- Hỗ trợ bộ phân tích cú pháp HTML (html.parser), XML (lxml.parser).\n",
    "- Đơn giản, dễ sử dụng.\n",
    "\n",
    "Cài đặt thư viện BeautifulSoup\n",
    "```python\n",
    "pip install BeautifulSoup4\n",
    "```"
   ]
  },
  {
   "cell_type": "markdown",
   "metadata": {},
   "source": [
    "# Nội dung thực hành\n",
    "\n",
    "## Lấy thông tin từ mã nguồn HTML tĩnh"
   ]
  },
  {
   "cell_type": "code",
   "execution_count": 79,
   "metadata": {},
   "outputs": [],
   "source": [
    "from bs4 import BeautifulSoup\n",
    "html_doc = \"\"\"<!DOCTYPE html><html><body><p><a id=\"link1\" \n",
    "href=\"www.3schools.com\">www.3schools.com</a><a id=\"link2\" \n",
    "href=\"https://developer.mozilla.org\">\n",
    "https://developer.mozilla.org</a></p><p>This is a paragraph.</p><p>\n",
    "This is another paragraph</p></body></html>\"\"\"\n",
    "#\n",
    "soup = BeautifulSoup(html_doc, \"html.parser\")"
   ]
  },
  {
   "cell_type": "code",
   "execution_count": 80,
   "metadata": {},
   "outputs": [
    {
     "name": "stdout",
     "output_type": "stream",
     "text": [
      "<!DOCTYPE html>\n",
      "<html>\n",
      " <body>\n",
      "  <p>\n",
      "   <a href=\"www.3schools.com\" id=\"link1\">\n",
      "    www.3schools.com\n",
      "   </a>\n",
      "   <a href=\"https://developer.mozilla.org\" id=\"link2\">\n",
      "    https://developer.mozilla.org\n",
      "   </a>\n",
      "  </p>\n",
      "  <p>\n",
      "   This is a paragraph.\n",
      "  </p>\n",
      "  <p>\n",
      "   This is another paragraph\n",
      "  </p>\n",
      " </body>\n",
      "</html>\n"
     ]
    }
   ],
   "source": [
    "print(soup.prettify())"
   ]
  },
  {
   "cell_type": "code",
   "execution_count": 81,
   "metadata": {},
   "outputs": [
    {
     "name": "stdout",
     "output_type": "stream",
     "text": [
      "<a href=\"www.3schools.com\" id=\"link1\">www.3schools.com</a>\n"
     ]
    }
   ],
   "source": [
    "print(soup.find(id=\"link1\"))"
   ]
  },
  {
   "cell_type": "code",
   "execution_count": 82,
   "metadata": {},
   "outputs": [
    {
     "name": "stdout",
     "output_type": "stream",
     "text": [
      "[<a href=\"www.3schools.com\" id=\"link1\">www.3schools.com</a>, <a href=\"https://developer.mozilla.org\" id=\"link2\">\n",
      "https://developer.mozilla.org</a>]\n"
     ]
    }
   ],
   "source": [
    "print(soup.find_all(name=\"a\"))"
   ]
  },
  {
   "cell_type": "code",
   "execution_count": 83,
   "metadata": {},
   "outputs": [
    {
     "name": "stdout",
     "output_type": "stream",
     "text": [
      "<p><a href=\"www.3schools.com\" id=\"link1\">www.3schools.com</a><a href=\"https://developer.mozilla.org\" id=\"link2\">\n",
      "https://developer.mozilla.org</a></p>\n"
     ]
    }
   ],
   "source": [
    "p_tag = soup.p\n",
    "print(p_tag)"
   ]
  },
  {
   "cell_type": "code",
   "execution_count": 84,
   "metadata": {},
   "outputs": [
    {
     "name": "stdout",
     "output_type": "stream",
     "text": [
      "<a href=\"www.3schools.com\" id=\"link1\">www.3schools.com</a>\n"
     ]
    }
   ],
   "source": [
    "a_tag = p_tag.a\n",
    "print(a_tag)"
   ]
  },
  {
   "cell_type": "code",
   "execution_count": 85,
   "metadata": {},
   "outputs": [
    {
     "name": "stdout",
     "output_type": "stream",
     "text": [
      "a {'id': 'link1', 'href': 'www.3schools.com'} www.3schools.com\n"
     ]
    }
   ],
   "source": [
    "print(a_tag.name, a_tag.attrs, a_tag.string)"
   ]
  },
  {
   "cell_type": "code",
   "execution_count": 86,
   "metadata": {},
   "outputs": [
    {
     "name": "stdout",
     "output_type": "stream",
     "text": [
      "['p', 'body', 'html', '[document]']\n"
     ]
    }
   ],
   "source": [
    "name_parents_a_tag = [tag.name for tag in a_tag.parents]\n",
    "print(name_parents_a_tag)"
   ]
  },
  {
   "cell_type": "code",
   "execution_count": 87,
   "metadata": {},
   "outputs": [
    {
     "name": "stdout",
     "output_type": "stream",
     "text": [
      "[<p>This is a paragraph.</p>, <p>\n",
      "This is another paragraph</p>]\n"
     ]
    }
   ],
   "source": [
    "siblings_p_tag = [tag for tag in p_tag.next_siblings]\n",
    "# siblings_p_tag = list(p_tag.next_siblings)\n",
    "print(siblings_p_tag)"
   ]
  },
  {
   "cell_type": "code",
   "execution_count": 88,
   "metadata": {},
   "outputs": [
    {
     "name": "stdout",
     "output_type": "stream",
     "text": [
      "['link1', 'link2']\n"
     ]
    }
   ],
   "source": [
    "list_id = [tag.attrs[\"id\"] for tag in p_tag.children]\n",
    "print(list_id)"
   ]
  },
  {
   "cell_type": "markdown",
   "metadata": {},
   "source": [
    "## Lấy thông tin trang Web trực tuyến\n",
    "\n",
    "Ví dụ: Lấy về GDP của tất cả các quốc gia trên thế giới."
   ]
  },
  {
   "cell_type": "markdown",
   "metadata": {},
   "source": [
    "- Lấy về mã nguồn trang Web."
   ]
  },
  {
   "cell_type": "code",
   "execution_count": 89,
   "metadata": {},
   "outputs": [],
   "source": [
    "from bs4 import BeautifulSoup\n",
    "from urllib.request import urlopen\n",
    "\n",
    "url = 'https://en.wikipedia.org/wiki/List_of_countries_by_GDP_(nominal)'\n",
    "html_doc = urlopen(url).read()\n",
    "soup = BeautifulSoup(html_doc, 'html.parser')"
   ]
  },
  {
   "cell_type": "code",
   "execution_count": 90,
   "metadata": {},
   "outputs": [
    {
     "data": {
      "text/plain": [
       "<title>List of countries by GDP (nominal) - Wikipedia</title>"
      ]
     },
     "execution_count": 90,
     "metadata": {},
     "output_type": "execute_result"
    }
   ],
   "source": [
    "# Lấy tiêu đề trang web\n",
    "soup.title"
   ]
  },
  {
   "cell_type": "markdown",
   "metadata": {},
   "source": [
    "- Cần đọc mã nguồn trang Web và phân tích cấu trúc của nó."
   ]
  },
  {
   "cell_type": "code",
   "execution_count": 91,
   "metadata": {},
   "outputs": [],
   "source": [
    "table_tag = soup.find(\"table\", attrs = {\"class\": \"wikitable\"})\n",
    "rows = table_tag.find(\"tbody\").find_all(\"tr\")\n",
    "\n",
    "# rows[1]"
   ]
  },
  {
   "cell_type": "code",
   "execution_count": 92,
   "metadata": {},
   "outputs": [
    {
     "data": {
      "text/plain": [
       "['Per the International Monetary Fund (2019 estimates)',\n",
       " 'Per the World Bank (2018)',\n",
       " 'Per the United Nations (2017)']"
      ]
     },
     "execution_count": 92,
     "metadata": {},
     "output_type": "execute_result"
    }
   ],
   "source": [
    "# Tại dòng 0, lấy về tiêu đề 3 bảng GDP\n",
    "table_headers = []\n",
    "for td in rows[0].find_all(\"td\"):\n",
    "    table_headers.append(td.b.text.replace('\\n', ' ').strip())\n",
    "    \n",
    "table_headers"
   ]
  },
  {
   "cell_type": "code",
   "execution_count": 93,
   "metadata": {},
   "outputs": [
    {
     "data": {
      "text/plain": [
       "['Rank', 'Country/Territory', 'GDP(US$million)']"
      ]
     },
     "execution_count": 93,
     "metadata": {},
     "output_type": "execute_result"
    }
   ],
   "source": [
    "# Tại dòng 1, lấy về tiêu đề 3 cột dữ liệu\n",
    "columns = []\n",
    "for th in rows[1].find(\"table\").find_all(\"th\"):\n",
    "    columns.append(th.text.replace('\\n', ' ').strip())\n",
    "    \n",
    "columns"
   ]
  },
  {
   "cell_type": "code",
   "execution_count": 94,
   "metadata": {},
   "outputs": [],
   "source": [
    "# Duyệt qua từng dòng lấy về thông tin tương ứng với cột Ranks, Countrys, GDP\n",
    "data = {}\n",
    "for table, header in zip(rows[1].find_all(\"table\"), table_headers):\n",
    "    table_data = []\n",
    "    for tr in table.tbody.find_all(\"tr\"):\n",
    "        row = {}\n",
    "        for td, th in zip(tr.find_all(\"td\"), columns):\n",
    "            row[th] = td.text.replace('\\n', '').strip()\n",
    "        table_data.append(row)\n",
    "    data[header] = table_data\n",
    "\n",
    "# data\n",
    "# data['Per the International Monetary Fund (2019 estimates)']\n",
    "# data.items()"
   ]
  },
  {
   "cell_type": "code",
   "execution_count": 95,
   "metadata": {},
   "outputs": [
    {
     "data": {
      "text/html": [
       "<div>\n",
       "<style scoped>\n",
       "    .dataframe tbody tr th:only-of-type {\n",
       "        vertical-align: middle;\n",
       "    }\n",
       "\n",
       "    .dataframe tbody tr th {\n",
       "        vertical-align: top;\n",
       "    }\n",
       "\n",
       "    .dataframe thead th {\n",
       "        text-align: right;\n",
       "    }\n",
       "</style>\n",
       "<table border=\"1\" class=\"dataframe\">\n",
       "  <thead>\n",
       "    <tr style=\"text-align: right;\">\n",
       "      <th></th>\n",
       "      <th>Rank</th>\n",
       "      <th>Country/Territory</th>\n",
       "      <th>GDP(US$million)</th>\n",
       "    </tr>\n",
       "  </thead>\n",
       "  <tbody>\n",
       "    <tr>\n",
       "      <td>0</td>\n",
       "      <td>NaN</td>\n",
       "      <td>NaN</td>\n",
       "      <td>NaN</td>\n",
       "    </tr>\n",
       "    <tr>\n",
       "      <td>1</td>\n",
       "      <td></td>\n",
       "      <td>World</td>\n",
       "      <td>85,804,391</td>\n",
       "    </tr>\n",
       "    <tr>\n",
       "      <td>2</td>\n",
       "      <td>1</td>\n",
       "      <td>United States</td>\n",
       "      <td>20,494,100</td>\n",
       "    </tr>\n",
       "    <tr>\n",
       "      <td>3</td>\n",
       "      <td>2</td>\n",
       "      <td>People's Republic of China[n 5]</td>\n",
       "      <td>13,608,152</td>\n",
       "    </tr>\n",
       "    <tr>\n",
       "      <td>4</td>\n",
       "      <td>3</td>\n",
       "      <td>Japan</td>\n",
       "      <td>4,970,916</td>\n",
       "    </tr>\n",
       "    <tr>\n",
       "      <td>...</td>\n",
       "      <td>...</td>\n",
       "      <td>...</td>\n",
       "      <td>...</td>\n",
       "    </tr>\n",
       "    <tr>\n",
       "      <td>188</td>\n",
       "      <td>181</td>\n",
       "      <td>Palau</td>\n",
       "      <td>310</td>\n",
       "    </tr>\n",
       "    <tr>\n",
       "      <td>189</td>\n",
       "      <td>182</td>\n",
       "      <td>Marshall Islands</td>\n",
       "      <td>212</td>\n",
       "    </tr>\n",
       "    <tr>\n",
       "      <td>190</td>\n",
       "      <td>183</td>\n",
       "      <td>Kiribati</td>\n",
       "      <td>188</td>\n",
       "    </tr>\n",
       "    <tr>\n",
       "      <td>191</td>\n",
       "      <td>184</td>\n",
       "      <td>Nauru</td>\n",
       "      <td>115</td>\n",
       "    </tr>\n",
       "    <tr>\n",
       "      <td>192</td>\n",
       "      <td>185</td>\n",
       "      <td>Tuvalu</td>\n",
       "      <td>43</td>\n",
       "    </tr>\n",
       "  </tbody>\n",
       "</table>\n",
       "<p>193 rows × 3 columns</p>\n",
       "</div>"
      ],
      "text/plain": [
       "    Rank                Country/Territory GDP(US$million)\n",
       "0    NaN                              NaN             NaN\n",
       "1                                   World      85,804,391\n",
       "2      1                    United States      20,494,100\n",
       "3      2  People's Republic of China[n 5]      13,608,152\n",
       "4      3                            Japan       4,970,916\n",
       "..   ...                              ...             ...\n",
       "188  181                            Palau             310\n",
       "189  182                 Marshall Islands             212\n",
       "190  183                         Kiribati             188\n",
       "191  184                            Nauru             115\n",
       "192  185                           Tuvalu              43\n",
       "\n",
       "[193 rows x 3 columns]"
      ]
     },
     "execution_count": 95,
     "metadata": {},
     "output_type": "execute_result"
    }
   ],
   "source": [
    "import pandas as pd\n",
    "\n",
    "df_work_bank = pd.DataFrame(data['Per the World Bank (2018)'])\n",
    "df_work_bank"
   ]
  },
  {
   "cell_type": "code",
   "execution_count": 96,
   "metadata": {},
   "outputs": [
    {
     "data": {
      "text/html": [
       "<div>\n",
       "<style scoped>\n",
       "    .dataframe tbody tr th:only-of-type {\n",
       "        vertical-align: middle;\n",
       "    }\n",
       "\n",
       "    .dataframe tbody tr th {\n",
       "        vertical-align: top;\n",
       "    }\n",
       "\n",
       "    .dataframe thead th {\n",
       "        text-align: right;\n",
       "    }\n",
       "</style>\n",
       "<table border=\"1\" class=\"dataframe\">\n",
       "  <thead>\n",
       "    <tr style=\"text-align: right;\">\n",
       "      <th></th>\n",
       "      <th>Rank</th>\n",
       "      <th>Country/Territory</th>\n",
       "      <th>GDP(US$million)</th>\n",
       "    </tr>\n",
       "  </thead>\n",
       "  <tbody>\n",
       "    <tr>\n",
       "      <td>0</td>\n",
       "      <td>NaN</td>\n",
       "      <td>NaN</td>\n",
       "      <td>NaN</td>\n",
       "    </tr>\n",
       "    <tr>\n",
       "      <td>1</td>\n",
       "      <td></td>\n",
       "      <td>World[19]</td>\n",
       "      <td>87,265,226</td>\n",
       "    </tr>\n",
       "    <tr>\n",
       "      <td>2</td>\n",
       "      <td>1</td>\n",
       "      <td>United States</td>\n",
       "      <td>21,439,453</td>\n",
       "    </tr>\n",
       "    <tr>\n",
       "      <td>3</td>\n",
       "      <td>—</td>\n",
       "      <td>European Union[23][n 1]</td>\n",
       "      <td>18,705,132</td>\n",
       "    </tr>\n",
       "    <tr>\n",
       "      <td>4</td>\n",
       "      <td>2</td>\n",
       "      <td>People's Republic of China[n 2]</td>\n",
       "      <td>14,140,163</td>\n",
       "    </tr>\n",
       "    <tr>\n",
       "      <td>...</td>\n",
       "      <td>...</td>\n",
       "      <td>...</td>\n",
       "      <td>...</td>\n",
       "    </tr>\n",
       "    <tr>\n",
       "      <td>190</td>\n",
       "      <td>182</td>\n",
       "      <td>Palau</td>\n",
       "      <td>291</td>\n",
       "    </tr>\n",
       "    <tr>\n",
       "      <td>191</td>\n",
       "      <td>183</td>\n",
       "      <td>Marshall Islands</td>\n",
       "      <td>220</td>\n",
       "    </tr>\n",
       "    <tr>\n",
       "      <td>192</td>\n",
       "      <td>184</td>\n",
       "      <td>Kiribati</td>\n",
       "      <td>184</td>\n",
       "    </tr>\n",
       "    <tr>\n",
       "      <td>193</td>\n",
       "      <td>185</td>\n",
       "      <td>Nauru</td>\n",
       "      <td>108</td>\n",
       "    </tr>\n",
       "    <tr>\n",
       "      <td>194</td>\n",
       "      <td>186</td>\n",
       "      <td>Tuvalu</td>\n",
       "      <td>42</td>\n",
       "    </tr>\n",
       "  </tbody>\n",
       "</table>\n",
       "<p>195 rows × 3 columns</p>\n",
       "</div>"
      ],
      "text/plain": [
       "    Rank                Country/Territory GDP(US$million)\n",
       "0    NaN                              NaN             NaN\n",
       "1                               World[19]      87,265,226\n",
       "2      1                    United States      21,439,453\n",
       "3      —          European Union[23][n 1]      18,705,132\n",
       "4      2  People's Republic of China[n 2]      14,140,163\n",
       "..   ...                              ...             ...\n",
       "190  182                            Palau             291\n",
       "191  183                 Marshall Islands             220\n",
       "192  184                         Kiribati             184\n",
       "193  185                            Nauru             108\n",
       "194  186                           Tuvalu              42\n",
       "\n",
       "[195 rows x 3 columns]"
      ]
     },
     "execution_count": 96,
     "metadata": {},
     "output_type": "execute_result"
    }
   ],
   "source": [
    "df_international = pd.DataFrame(data['Per the International Monetary Fund (2019 estimates)'])\n",
    "df_international"
   ]
  },
  {
   "cell_type": "code",
   "execution_count": 97,
   "metadata": {},
   "outputs": [
    {
     "data": {
      "text/html": [
       "<div>\n",
       "<style scoped>\n",
       "    .dataframe tbody tr th:only-of-type {\n",
       "        vertical-align: middle;\n",
       "    }\n",
       "\n",
       "    .dataframe tbody tr th {\n",
       "        vertical-align: top;\n",
       "    }\n",
       "\n",
       "    .dataframe thead th {\n",
       "        text-align: right;\n",
       "    }\n",
       "</style>\n",
       "<table border=\"1\" class=\"dataframe\">\n",
       "  <thead>\n",
       "    <tr style=\"text-align: right;\">\n",
       "      <th></th>\n",
       "      <th>Rank</th>\n",
       "      <th>Country/Territory</th>\n",
       "      <th>GDP(US$million)</th>\n",
       "    </tr>\n",
       "  </thead>\n",
       "  <tbody>\n",
       "    <tr>\n",
       "      <td>0</td>\n",
       "      <td>NaN</td>\n",
       "      <td>NaN</td>\n",
       "      <td>NaN</td>\n",
       "    </tr>\n",
       "    <tr>\n",
       "      <td>1</td>\n",
       "      <td></td>\n",
       "      <td>World[25]</td>\n",
       "      <td>80,501,413</td>\n",
       "    </tr>\n",
       "    <tr>\n",
       "      <td>2</td>\n",
       "      <td>1</td>\n",
       "      <td>United States</td>\n",
       "      <td>19,485,394</td>\n",
       "    </tr>\n",
       "    <tr>\n",
       "      <td>3</td>\n",
       "      <td>2</td>\n",
       "      <td>People's Republic of China[n 5]</td>\n",
       "      <td>12,234,781</td>\n",
       "    </tr>\n",
       "    <tr>\n",
       "      <td>4</td>\n",
       "      <td>3</td>\n",
       "      <td>Japan</td>\n",
       "      <td>4,872,415</td>\n",
       "    </tr>\n",
       "    <tr>\n",
       "      <td>...</td>\n",
       "      <td>...</td>\n",
       "      <td>...</td>\n",
       "      <td>...</td>\n",
       "    </tr>\n",
       "    <tr>\n",
       "      <td>209</td>\n",
       "      <td>189</td>\n",
       "      <td>Marshall Islands</td>\n",
       "      <td>209</td>\n",
       "    </tr>\n",
       "    <tr>\n",
       "      <td>210</td>\n",
       "      <td>190</td>\n",
       "      <td>Nauru</td>\n",
       "      <td>182</td>\n",
       "    </tr>\n",
       "    <tr>\n",
       "      <td>211</td>\n",
       "      <td>191</td>\n",
       "      <td>Kiribati</td>\n",
       "      <td>180</td>\n",
       "    </tr>\n",
       "    <tr>\n",
       "      <td>212</td>\n",
       "      <td>—</td>\n",
       "      <td>Montserrat</td>\n",
       "      <td>63</td>\n",
       "    </tr>\n",
       "    <tr>\n",
       "      <td>213</td>\n",
       "      <td>192</td>\n",
       "      <td>Tuvalu</td>\n",
       "      <td>38</td>\n",
       "    </tr>\n",
       "  </tbody>\n",
       "</table>\n",
       "<p>214 rows × 3 columns</p>\n",
       "</div>"
      ],
      "text/plain": [
       "    Rank                Country/Territory GDP(US$million)\n",
       "0    NaN                              NaN             NaN\n",
       "1                               World[25]      80,501,413\n",
       "2      1                    United States      19,485,394\n",
       "3      2  People's Republic of China[n 5]      12,234,781\n",
       "4      3                            Japan       4,872,415\n",
       "..   ...                              ...             ...\n",
       "209  189                 Marshall Islands             209\n",
       "210  190                            Nauru             182\n",
       "211  191                         Kiribati             180\n",
       "212    —                       Montserrat              63\n",
       "213  192                           Tuvalu              38\n",
       "\n",
       "[214 rows x 3 columns]"
      ]
     },
     "execution_count": 97,
     "metadata": {},
     "output_type": "execute_result"
    }
   ],
   "source": [
    "df_us = pd.DataFrame(data['Per the United Nations (2017)'])\n",
    "df_us"
   ]
  },
  {
   "cell_type": "markdown",
   "metadata": {},
   "source": [
    "- Lưu dữ liệu 3 bảng vào 3 tập tin *.csv"
   ]
  },
  {
   "cell_type": "code",
   "execution_count": 98,
   "metadata": {},
   "outputs": [],
   "source": [
    "df_work_bank.to_csv('Per the World Bank (2018).csv')\n",
    "df_international.to_csv('Per the International Monetary Fund (2019 estimates).csv')\n",
    "df_us.to_csv('Per the United Nations (2017).csv')"
   ]
  },
  {
   "cell_type": "code",
   "execution_count": 99,
   "metadata": {},
   "outputs": [],
   "source": [
    "import csv\n",
    "\n",
    "# for name, table in data.items():\n",
    "#     with open(f\"{name}.csv\", 'w') as out_file:\n",
    "#         writer = csv.DictWriter(out_file, headers)\n",
    "#         writer.writeheader()\n",
    "#         for row in table:\n",
    "#             if row:\n",
    "#                 writer.writerow(row)"
   ]
  }
 ],
 "metadata": {
  "kernelspec": {
   "display_name": "Python 3",
   "language": "python",
   "name": "python3"
  },
  "language_info": {
   "codemirror_mode": {
    "name": "ipython",
    "version": 3
   },
   "file_extension": ".py",
   "mimetype": "text/x-python",
   "name": "python",
   "nbconvert_exporter": "python",
   "pygments_lexer": "ipython3",
   "version": "3.7.4"
  }
 },
 "nbformat": 4,
 "nbformat_minor": 4
}
